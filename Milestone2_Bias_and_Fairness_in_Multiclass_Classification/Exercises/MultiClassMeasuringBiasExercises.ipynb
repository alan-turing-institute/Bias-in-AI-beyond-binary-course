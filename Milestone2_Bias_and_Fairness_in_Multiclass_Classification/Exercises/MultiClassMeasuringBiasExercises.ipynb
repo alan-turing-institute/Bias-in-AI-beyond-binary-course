{
 "cells": [
  {
   "cell_type": "markdown",
   "metadata": {},
   "source": [
    "# Measuring Bias in a Multiclass Classification Model"
   ]
  },
  {
   "cell_type": "markdown",
   "metadata": {},
   "source": [
    "In this notebook, we audit a multiclass classification system for bias using the holisticai library. We will load and explore a dataset, train a multiclass classification model, and audit the model using the library's bias metrics. All questions and tasks are bolded and in red."
   ]
  },
  {
   "cell_type": "markdown",
   "metadata": {},
   "source": [
    "### 0 - Importing modules and loading the data"
   ]
  },
  {
   "cell_type": "markdown",
   "metadata": {},
   "source": [
    "We begin by importing necessary modules and loading the dataset. For this milestone, we will be using the 'Student Performance Dataset' from the UC Irvine Machine Learning Repository and loading it directly from the holisticai library. The dataset captures the performance of students in two Portuguese secondary schools. "
   ]
  },
  {
   "cell_type": "code",
   "execution_count": 1,
   "metadata": {},
   "outputs": [
    {
     "name": "stdout",
     "output_type": "stream",
     "text": [
      "Requirement already satisfied: holisticai in /Users/giuliofilippi/opt/anaconda3/envs/clean_environment/lib/python3.9/site-packages (0.3.0)\n",
      "Requirement already satisfied: scikit-learn>=1.0.2 in /Users/giuliofilippi/opt/anaconda3/envs/clean_environment/lib/python3.9/site-packages (from holisticai) (1.1.0)\n",
      "Requirement already satisfied: tqdm<5.0.0,>=4.64.1 in /Users/giuliofilippi/opt/anaconda3/envs/clean_environment/lib/python3.9/site-packages (from holisticai) (4.64.1)\n",
      "Requirement already satisfied: seaborn>=0.11.2 in /Users/giuliofilippi/opt/anaconda3/envs/clean_environment/lib/python3.9/site-packages (from holisticai) (0.12.2)\n",
      "Requirement already satisfied: cvxpy[cbc]<2.0.0,>=1.3.0 in /Users/giuliofilippi/opt/anaconda3/envs/clean_environment/lib/python3.9/site-packages (from holisticai) (1.3.0)\n",
      "Requirement already satisfied: cvxopt<2.0.0,>=1.3.0 in /Users/giuliofilippi/opt/anaconda3/envs/clean_environment/lib/python3.9/site-packages (from holisticai) (1.3.0)\n",
      "Requirement already satisfied: osqp>=0.4.1 in /Users/giuliofilippi/opt/anaconda3/envs/clean_environment/lib/python3.9/site-packages (from cvxpy[cbc]<2.0.0,>=1.3.0->holisticai) (0.6.2.post8)\n",
      "Requirement already satisfied: setuptools<=64.0.2 in /Users/giuliofilippi/opt/anaconda3/envs/clean_environment/lib/python3.9/site-packages (from cvxpy[cbc]<2.0.0,>=1.3.0->holisticai) (64.0.2)\n",
      "Requirement already satisfied: scs>=1.1.6 in /Users/giuliofilippi/opt/anaconda3/envs/clean_environment/lib/python3.9/site-packages (from cvxpy[cbc]<2.0.0,>=1.3.0->holisticai) (3.2.2)\n",
      "Requirement already satisfied: numpy>=1.15 in /Users/giuliofilippi/opt/anaconda3/envs/clean_environment/lib/python3.9/site-packages (from cvxpy[cbc]<2.0.0,>=1.3.0->holisticai) (1.24.2)\n",
      "Requirement already satisfied: scipy>=1.1.0 in /Users/giuliofilippi/opt/anaconda3/envs/clean_environment/lib/python3.9/site-packages (from cvxpy[cbc]<2.0.0,>=1.3.0->holisticai) (1.10.0)\n",
      "Requirement already satisfied: ecos>=2 in /Users/giuliofilippi/opt/anaconda3/envs/clean_environment/lib/python3.9/site-packages (from cvxpy[cbc]<2.0.0,>=1.3.0->holisticai) (2.0.12)\n",
      "Requirement already satisfied: cylp>=0.91.5 in /Users/giuliofilippi/opt/anaconda3/envs/clean_environment/lib/python3.9/site-packages (from cvxpy[cbc]<2.0.0,>=1.3.0->holisticai) (0.91.5)\n",
      "Requirement already satisfied: threadpoolctl>=2.0.0 in /Users/giuliofilippi/opt/anaconda3/envs/clean_environment/lib/python3.9/site-packages (from scikit-learn>=1.0.2->holisticai) (3.1.0)\n",
      "Requirement already satisfied: joblib>=1.0.0 in /Users/giuliofilippi/opt/anaconda3/envs/clean_environment/lib/python3.9/site-packages (from scikit-learn>=1.0.2->holisticai) (1.2.0)\n",
      "Requirement already satisfied: pandas>=0.25 in /Users/giuliofilippi/opt/anaconda3/envs/clean_environment/lib/python3.9/site-packages (from seaborn>=0.11.2->holisticai) (1.5.3)\n",
      "Requirement already satisfied: matplotlib!=3.6.1,>=3.1 in /Users/giuliofilippi/opt/anaconda3/envs/clean_environment/lib/python3.9/site-packages (from seaborn>=0.11.2->holisticai) (3.6.3)\n",
      "Requirement already satisfied: python-dateutil>=2.7 in /Users/giuliofilippi/opt/anaconda3/envs/clean_environment/lib/python3.9/site-packages (from matplotlib!=3.6.1,>=3.1->seaborn>=0.11.2->holisticai) (2.8.2)\n",
      "Requirement already satisfied: cycler>=0.10 in /Users/giuliofilippi/opt/anaconda3/envs/clean_environment/lib/python3.9/site-packages (from matplotlib!=3.6.1,>=3.1->seaborn>=0.11.2->holisticai) (0.11.0)\n",
      "Requirement already satisfied: contourpy>=1.0.1 in /Users/giuliofilippi/opt/anaconda3/envs/clean_environment/lib/python3.9/site-packages (from matplotlib!=3.6.1,>=3.1->seaborn>=0.11.2->holisticai) (1.0.7)\n",
      "Requirement already satisfied: fonttools>=4.22.0 in /Users/giuliofilippi/opt/anaconda3/envs/clean_environment/lib/python3.9/site-packages (from matplotlib!=3.6.1,>=3.1->seaborn>=0.11.2->holisticai) (4.38.0)\n",
      "Requirement already satisfied: kiwisolver>=1.0.1 in /Users/giuliofilippi/opt/anaconda3/envs/clean_environment/lib/python3.9/site-packages (from matplotlib!=3.6.1,>=3.1->seaborn>=0.11.2->holisticai) (1.4.4)\n",
      "Requirement already satisfied: packaging>=20.0 in /Users/giuliofilippi/opt/anaconda3/envs/clean_environment/lib/python3.9/site-packages (from matplotlib!=3.6.1,>=3.1->seaborn>=0.11.2->holisticai) (23.0)\n",
      "Requirement already satisfied: pyparsing>=2.2.1 in /Users/giuliofilippi/opt/anaconda3/envs/clean_environment/lib/python3.9/site-packages (from matplotlib!=3.6.1,>=3.1->seaborn>=0.11.2->holisticai) (3.0.9)\n",
      "Requirement already satisfied: pillow>=6.2.0 in /Users/giuliofilippi/opt/anaconda3/envs/clean_environment/lib/python3.9/site-packages (from matplotlib!=3.6.1,>=3.1->seaborn>=0.11.2->holisticai) (9.4.0)\n",
      "Requirement already satisfied: qdldl in /Users/giuliofilippi/opt/anaconda3/envs/clean_environment/lib/python3.9/site-packages (from osqp>=0.4.1->cvxpy[cbc]<2.0.0,>=1.3.0->holisticai) (0.1.5.post3)\n",
      "Requirement already satisfied: pytz>=2020.1 in /Users/giuliofilippi/opt/anaconda3/envs/clean_environment/lib/python3.9/site-packages (from pandas>=0.25->seaborn>=0.11.2->holisticai) (2022.7.1)\n",
      "Requirement already satisfied: six>=1.5 in /Users/giuliofilippi/opt/anaconda3/envs/clean_environment/lib/python3.9/site-packages (from python-dateutil>=2.7->matplotlib!=3.6.1,>=3.1->seaborn>=0.11.2->holisticai) (1.16.0)\n"
     ]
    }
   ],
   "source": [
    "# make sure you have holisticai library installed\n",
    "!pip install holisticai"
   ]
  },
  {
   "cell_type": "code",
   "execution_count": 2,
   "metadata": {},
   "outputs": [],
   "source": [
    "# Base Imports\n",
    "import pandas as pd\n",
    "import numpy as np\n",
    "from sklearn.model_selection import train_test_split\n",
    "from sklearn.ensemble import RandomForestClassifier\n",
    "from sklearn.preprocessing import OneHotEncoder\n",
    "from sklearn.metrics import precision_score, recall_score, accuracy_score\n",
    "\n",
    "# import dataset\n",
    "from holisticai.datasets import load_student\n",
    "\n",
    "# import plotting functions\n",
    "from holisticai.bias.plots import group_pie_plot\n",
    "from holisticai.bias.plots import histogram_plot\n",
    "from holisticai.bias.plots import frequency_matrix_plot\n",
    "from holisticai.bias.plots import frequency_plot\n",
    "\n",
    "# import some bias metrics\n",
    "from holisticai.bias.metrics import multiclass_statistical_parity\n",
    "from holisticai.bias.metrics import multiclass_equality_of_opp\n",
    "from holisticai.bias.metrics import confusion_matrix"
   ]
  },
  {
   "cell_type": "code",
   "execution_count": 3,
   "metadata": {},
   "outputs": [],
   "source": [
    "# load dataset into a dataframe\n",
    "df = load_student()['frame']"
   ]
  },
  {
   "cell_type": "markdown",
   "metadata": {},
   "source": [
    "### 1- Exploring the dataset"
   ]
  },
  {
   "cell_type": "markdown",
   "metadata": {},
   "source": [
    "Now that we've loaded the data, let's explore it using pandas."
   ]
  },
  {
   "cell_type": "code",
   "execution_count": 4,
   "metadata": {},
   "outputs": [
    {
     "data": {
      "text/html": [
       "<div>\n",
       "<style scoped>\n",
       "    .dataframe tbody tr th:only-of-type {\n",
       "        vertical-align: middle;\n",
       "    }\n",
       "\n",
       "    .dataframe tbody tr th {\n",
       "        vertical-align: top;\n",
       "    }\n",
       "\n",
       "    .dataframe thead th {\n",
       "        text-align: right;\n",
       "    }\n",
       "</style>\n",
       "<table border=\"1\" class=\"dataframe\">\n",
       "  <thead>\n",
       "    <tr style=\"text-align: right;\">\n",
       "      <th></th>\n",
       "      <th>school</th>\n",
       "      <th>sex</th>\n",
       "      <th>age</th>\n",
       "      <th>address</th>\n",
       "      <th>famsize</th>\n",
       "      <th>Pstatus</th>\n",
       "      <th>Medu</th>\n",
       "      <th>Fedu</th>\n",
       "      <th>Mjob</th>\n",
       "      <th>Fjob</th>\n",
       "      <th>...</th>\n",
       "      <th>famrel</th>\n",
       "      <th>freetime</th>\n",
       "      <th>goout</th>\n",
       "      <th>Dalc</th>\n",
       "      <th>Walc</th>\n",
       "      <th>health</th>\n",
       "      <th>absences</th>\n",
       "      <th>G1</th>\n",
       "      <th>G2</th>\n",
       "      <th>G3</th>\n",
       "    </tr>\n",
       "  </thead>\n",
       "  <tbody>\n",
       "    <tr>\n",
       "      <th>0</th>\n",
       "      <td>GP</td>\n",
       "      <td>F</td>\n",
       "      <td>18.0</td>\n",
       "      <td>U</td>\n",
       "      <td>GT3</td>\n",
       "      <td>A</td>\n",
       "      <td>4.0</td>\n",
       "      <td>4.0</td>\n",
       "      <td>at_home</td>\n",
       "      <td>teacher</td>\n",
       "      <td>...</td>\n",
       "      <td>4.0</td>\n",
       "      <td>3.0</td>\n",
       "      <td>4.0</td>\n",
       "      <td>1.0</td>\n",
       "      <td>1.0</td>\n",
       "      <td>3.0</td>\n",
       "      <td>6.0</td>\n",
       "      <td>5.0</td>\n",
       "      <td>6.0</td>\n",
       "      <td>6.0</td>\n",
       "    </tr>\n",
       "    <tr>\n",
       "      <th>1</th>\n",
       "      <td>GP</td>\n",
       "      <td>F</td>\n",
       "      <td>17.0</td>\n",
       "      <td>U</td>\n",
       "      <td>GT3</td>\n",
       "      <td>T</td>\n",
       "      <td>1.0</td>\n",
       "      <td>1.0</td>\n",
       "      <td>at_home</td>\n",
       "      <td>other</td>\n",
       "      <td>...</td>\n",
       "      <td>5.0</td>\n",
       "      <td>3.0</td>\n",
       "      <td>3.0</td>\n",
       "      <td>1.0</td>\n",
       "      <td>1.0</td>\n",
       "      <td>3.0</td>\n",
       "      <td>4.0</td>\n",
       "      <td>5.0</td>\n",
       "      <td>5.0</td>\n",
       "      <td>6.0</td>\n",
       "    </tr>\n",
       "    <tr>\n",
       "      <th>2</th>\n",
       "      <td>GP</td>\n",
       "      <td>F</td>\n",
       "      <td>15.0</td>\n",
       "      <td>U</td>\n",
       "      <td>LE3</td>\n",
       "      <td>T</td>\n",
       "      <td>1.0</td>\n",
       "      <td>1.0</td>\n",
       "      <td>at_home</td>\n",
       "      <td>other</td>\n",
       "      <td>...</td>\n",
       "      <td>4.0</td>\n",
       "      <td>3.0</td>\n",
       "      <td>2.0</td>\n",
       "      <td>2.0</td>\n",
       "      <td>3.0</td>\n",
       "      <td>3.0</td>\n",
       "      <td>10.0</td>\n",
       "      <td>7.0</td>\n",
       "      <td>8.0</td>\n",
       "      <td>10.0</td>\n",
       "    </tr>\n",
       "    <tr>\n",
       "      <th>3</th>\n",
       "      <td>GP</td>\n",
       "      <td>F</td>\n",
       "      <td>15.0</td>\n",
       "      <td>U</td>\n",
       "      <td>GT3</td>\n",
       "      <td>T</td>\n",
       "      <td>4.0</td>\n",
       "      <td>2.0</td>\n",
       "      <td>health</td>\n",
       "      <td>services</td>\n",
       "      <td>...</td>\n",
       "      <td>3.0</td>\n",
       "      <td>2.0</td>\n",
       "      <td>2.0</td>\n",
       "      <td>1.0</td>\n",
       "      <td>1.0</td>\n",
       "      <td>5.0</td>\n",
       "      <td>2.0</td>\n",
       "      <td>15.0</td>\n",
       "      <td>14.0</td>\n",
       "      <td>15.0</td>\n",
       "    </tr>\n",
       "    <tr>\n",
       "      <th>4</th>\n",
       "      <td>GP</td>\n",
       "      <td>F</td>\n",
       "      <td>16.0</td>\n",
       "      <td>U</td>\n",
       "      <td>GT3</td>\n",
       "      <td>T</td>\n",
       "      <td>3.0</td>\n",
       "      <td>3.0</td>\n",
       "      <td>other</td>\n",
       "      <td>other</td>\n",
       "      <td>...</td>\n",
       "      <td>4.0</td>\n",
       "      <td>3.0</td>\n",
       "      <td>2.0</td>\n",
       "      <td>1.0</td>\n",
       "      <td>2.0</td>\n",
       "      <td>5.0</td>\n",
       "      <td>4.0</td>\n",
       "      <td>6.0</td>\n",
       "      <td>10.0</td>\n",
       "      <td>10.0</td>\n",
       "    </tr>\n",
       "    <tr>\n",
       "      <th>...</th>\n",
       "      <td>...</td>\n",
       "      <td>...</td>\n",
       "      <td>...</td>\n",
       "      <td>...</td>\n",
       "      <td>...</td>\n",
       "      <td>...</td>\n",
       "      <td>...</td>\n",
       "      <td>...</td>\n",
       "      <td>...</td>\n",
       "      <td>...</td>\n",
       "      <td>...</td>\n",
       "      <td>...</td>\n",
       "      <td>...</td>\n",
       "      <td>...</td>\n",
       "      <td>...</td>\n",
       "      <td>...</td>\n",
       "      <td>...</td>\n",
       "      <td>...</td>\n",
       "      <td>...</td>\n",
       "      <td>...</td>\n",
       "      <td>...</td>\n",
       "    </tr>\n",
       "    <tr>\n",
       "      <th>390</th>\n",
       "      <td>MS</td>\n",
       "      <td>M</td>\n",
       "      <td>20.0</td>\n",
       "      <td>U</td>\n",
       "      <td>LE3</td>\n",
       "      <td>A</td>\n",
       "      <td>2.0</td>\n",
       "      <td>2.0</td>\n",
       "      <td>services</td>\n",
       "      <td>services</td>\n",
       "      <td>...</td>\n",
       "      <td>5.0</td>\n",
       "      <td>5.0</td>\n",
       "      <td>4.0</td>\n",
       "      <td>4.0</td>\n",
       "      <td>5.0</td>\n",
       "      <td>4.0</td>\n",
       "      <td>11.0</td>\n",
       "      <td>9.0</td>\n",
       "      <td>9.0</td>\n",
       "      <td>9.0</td>\n",
       "    </tr>\n",
       "    <tr>\n",
       "      <th>391</th>\n",
       "      <td>MS</td>\n",
       "      <td>M</td>\n",
       "      <td>17.0</td>\n",
       "      <td>U</td>\n",
       "      <td>LE3</td>\n",
       "      <td>T</td>\n",
       "      <td>3.0</td>\n",
       "      <td>1.0</td>\n",
       "      <td>services</td>\n",
       "      <td>services</td>\n",
       "      <td>...</td>\n",
       "      <td>2.0</td>\n",
       "      <td>4.0</td>\n",
       "      <td>5.0</td>\n",
       "      <td>3.0</td>\n",
       "      <td>4.0</td>\n",
       "      <td>2.0</td>\n",
       "      <td>3.0</td>\n",
       "      <td>14.0</td>\n",
       "      <td>16.0</td>\n",
       "      <td>16.0</td>\n",
       "    </tr>\n",
       "    <tr>\n",
       "      <th>392</th>\n",
       "      <td>MS</td>\n",
       "      <td>M</td>\n",
       "      <td>21.0</td>\n",
       "      <td>R</td>\n",
       "      <td>GT3</td>\n",
       "      <td>T</td>\n",
       "      <td>1.0</td>\n",
       "      <td>1.0</td>\n",
       "      <td>other</td>\n",
       "      <td>other</td>\n",
       "      <td>...</td>\n",
       "      <td>5.0</td>\n",
       "      <td>5.0</td>\n",
       "      <td>3.0</td>\n",
       "      <td>3.0</td>\n",
       "      <td>3.0</td>\n",
       "      <td>3.0</td>\n",
       "      <td>3.0</td>\n",
       "      <td>10.0</td>\n",
       "      <td>8.0</td>\n",
       "      <td>7.0</td>\n",
       "    </tr>\n",
       "    <tr>\n",
       "      <th>393</th>\n",
       "      <td>MS</td>\n",
       "      <td>M</td>\n",
       "      <td>18.0</td>\n",
       "      <td>R</td>\n",
       "      <td>LE3</td>\n",
       "      <td>T</td>\n",
       "      <td>3.0</td>\n",
       "      <td>2.0</td>\n",
       "      <td>services</td>\n",
       "      <td>other</td>\n",
       "      <td>...</td>\n",
       "      <td>4.0</td>\n",
       "      <td>4.0</td>\n",
       "      <td>1.0</td>\n",
       "      <td>3.0</td>\n",
       "      <td>4.0</td>\n",
       "      <td>5.0</td>\n",
       "      <td>0.0</td>\n",
       "      <td>11.0</td>\n",
       "      <td>12.0</td>\n",
       "      <td>10.0</td>\n",
       "    </tr>\n",
       "    <tr>\n",
       "      <th>394</th>\n",
       "      <td>MS</td>\n",
       "      <td>M</td>\n",
       "      <td>19.0</td>\n",
       "      <td>U</td>\n",
       "      <td>LE3</td>\n",
       "      <td>T</td>\n",
       "      <td>1.0</td>\n",
       "      <td>1.0</td>\n",
       "      <td>other</td>\n",
       "      <td>at_home</td>\n",
       "      <td>...</td>\n",
       "      <td>3.0</td>\n",
       "      <td>2.0</td>\n",
       "      <td>3.0</td>\n",
       "      <td>3.0</td>\n",
       "      <td>3.0</td>\n",
       "      <td>5.0</td>\n",
       "      <td>5.0</td>\n",
       "      <td>8.0</td>\n",
       "      <td>9.0</td>\n",
       "      <td>9.0</td>\n",
       "    </tr>\n",
       "  </tbody>\n",
       "</table>\n",
       "<p>395 rows × 33 columns</p>\n",
       "</div>"
      ],
      "text/plain": [
       "    school sex   age address famsize Pstatus  Medu  Fedu      Mjob      Fjob  \\\n",
       "0       GP   F  18.0       U     GT3       A   4.0   4.0   at_home   teacher   \n",
       "1       GP   F  17.0       U     GT3       T   1.0   1.0   at_home     other   \n",
       "2       GP   F  15.0       U     LE3       T   1.0   1.0   at_home     other   \n",
       "3       GP   F  15.0       U     GT3       T   4.0   2.0    health  services   \n",
       "4       GP   F  16.0       U     GT3       T   3.0   3.0     other     other   \n",
       "..     ...  ..   ...     ...     ...     ...   ...   ...       ...       ...   \n",
       "390     MS   M  20.0       U     LE3       A   2.0   2.0  services  services   \n",
       "391     MS   M  17.0       U     LE3       T   3.0   1.0  services  services   \n",
       "392     MS   M  21.0       R     GT3       T   1.0   1.0     other     other   \n",
       "393     MS   M  18.0       R     LE3       T   3.0   2.0  services     other   \n",
       "394     MS   M  19.0       U     LE3       T   1.0   1.0     other   at_home   \n",
       "\n",
       "     ... famrel freetime  goout  Dalc  Walc health absences    G1    G2    G3  \n",
       "0    ...    4.0      3.0    4.0   1.0   1.0    3.0      6.0   5.0   6.0   6.0  \n",
       "1    ...    5.0      3.0    3.0   1.0   1.0    3.0      4.0   5.0   5.0   6.0  \n",
       "2    ...    4.0      3.0    2.0   2.0   3.0    3.0     10.0   7.0   8.0  10.0  \n",
       "3    ...    3.0      2.0    2.0   1.0   1.0    5.0      2.0  15.0  14.0  15.0  \n",
       "4    ...    4.0      3.0    2.0   1.0   2.0    5.0      4.0   6.0  10.0  10.0  \n",
       "..   ...    ...      ...    ...   ...   ...    ...      ...   ...   ...   ...  \n",
       "390  ...    5.0      5.0    4.0   4.0   5.0    4.0     11.0   9.0   9.0   9.0  \n",
       "391  ...    2.0      4.0    5.0   3.0   4.0    2.0      3.0  14.0  16.0  16.0  \n",
       "392  ...    5.0      5.0    3.0   3.0   3.0    3.0      3.0  10.0   8.0   7.0  \n",
       "393  ...    4.0      4.0    1.0   3.0   4.0    5.0      0.0  11.0  12.0  10.0  \n",
       "394  ...    3.0      2.0    3.0   3.0   3.0    5.0      5.0   8.0   9.0   9.0  \n",
       "\n",
       "[395 rows x 33 columns]"
      ]
     },
     "execution_count": 4,
     "metadata": {},
     "output_type": "execute_result"
    }
   ],
   "source": [
    "df"
   ]
  },
  {
   "cell_type": "code",
   "execution_count": 5,
   "metadata": {},
   "outputs": [
    {
     "data": {
      "text/plain": [
       "array(['school', 'sex', 'age', 'address', 'famsize', 'Pstatus', 'Medu',\n",
       "       'Fedu', 'Mjob', 'Fjob', 'reason', 'guardian', 'traveltime',\n",
       "       'studytime', 'failures', 'schoolsup', 'famsup', 'paid',\n",
       "       'activities', 'nursery', 'higher', 'internet', 'romantic',\n",
       "       'famrel', 'freetime', 'goout', 'Dalc', 'Walc', 'health',\n",
       "       'absences', 'G1', 'G2', 'G3'], dtype=object)"
      ]
     },
     "execution_count": 5,
     "metadata": {},
     "output_type": "execute_result"
    }
   ],
   "source": [
    "df.columns.values"
   ]
  },
  {
   "cell_type": "markdown",
   "metadata": {},
   "source": [
    "From the previous two cells, we see that there are 395 data points and 33 attributes. There are several sensitive attributes in the data including 'sex', 'address', 'Mjob' (mother's job), and 'Fjob' (father's job). The last three attributes, G1, G2 and G3, are the level the student achieved in periods 1,2 and 3 respectively. We will now split the 'G3' value into 4 buckets to create categories to train a multiclass classification model. If the value of 'G3' is in the range [0,8), we assign the target 'very-low', if it is in the range  [8,11) we assign 'low', if it is in the range [11,14) we assign 'high', and if it is greater than or equal to 14 we assign 'very-high'. After mapping the grades to these values, we drop the 'G1','G2','G3' columns from the data."
   ]
  },
  {
   "cell_type": "code",
   "execution_count": 6,
   "metadata": {},
   "outputs": [
    {
     "data": {
      "text/html": [
       "<div>\n",
       "<style scoped>\n",
       "    .dataframe tbody tr th:only-of-type {\n",
       "        vertical-align: middle;\n",
       "    }\n",
       "\n",
       "    .dataframe tbody tr th {\n",
       "        vertical-align: top;\n",
       "    }\n",
       "\n",
       "    .dataframe thead th {\n",
       "        text-align: right;\n",
       "    }\n",
       "</style>\n",
       "<table border=\"1\" class=\"dataframe\">\n",
       "  <thead>\n",
       "    <tr style=\"text-align: right;\">\n",
       "      <th></th>\n",
       "      <th>school</th>\n",
       "      <th>sex</th>\n",
       "      <th>age</th>\n",
       "      <th>address</th>\n",
       "      <th>famsize</th>\n",
       "      <th>Pstatus</th>\n",
       "      <th>Medu</th>\n",
       "      <th>Fedu</th>\n",
       "      <th>Mjob</th>\n",
       "      <th>Fjob</th>\n",
       "      <th>...</th>\n",
       "      <th>internet</th>\n",
       "      <th>romantic</th>\n",
       "      <th>famrel</th>\n",
       "      <th>freetime</th>\n",
       "      <th>goout</th>\n",
       "      <th>Dalc</th>\n",
       "      <th>Walc</th>\n",
       "      <th>health</th>\n",
       "      <th>absences</th>\n",
       "      <th>target</th>\n",
       "    </tr>\n",
       "  </thead>\n",
       "  <tbody>\n",
       "    <tr>\n",
       "      <th>0</th>\n",
       "      <td>GP</td>\n",
       "      <td>F</td>\n",
       "      <td>18.0</td>\n",
       "      <td>U</td>\n",
       "      <td>GT3</td>\n",
       "      <td>A</td>\n",
       "      <td>4.0</td>\n",
       "      <td>4.0</td>\n",
       "      <td>at_home</td>\n",
       "      <td>teacher</td>\n",
       "      <td>...</td>\n",
       "      <td>no</td>\n",
       "      <td>no</td>\n",
       "      <td>4.0</td>\n",
       "      <td>3.0</td>\n",
       "      <td>4.0</td>\n",
       "      <td>1.0</td>\n",
       "      <td>1.0</td>\n",
       "      <td>3.0</td>\n",
       "      <td>6.0</td>\n",
       "      <td>very-low</td>\n",
       "    </tr>\n",
       "    <tr>\n",
       "      <th>1</th>\n",
       "      <td>GP</td>\n",
       "      <td>F</td>\n",
       "      <td>17.0</td>\n",
       "      <td>U</td>\n",
       "      <td>GT3</td>\n",
       "      <td>T</td>\n",
       "      <td>1.0</td>\n",
       "      <td>1.0</td>\n",
       "      <td>at_home</td>\n",
       "      <td>other</td>\n",
       "      <td>...</td>\n",
       "      <td>yes</td>\n",
       "      <td>no</td>\n",
       "      <td>5.0</td>\n",
       "      <td>3.0</td>\n",
       "      <td>3.0</td>\n",
       "      <td>1.0</td>\n",
       "      <td>1.0</td>\n",
       "      <td>3.0</td>\n",
       "      <td>4.0</td>\n",
       "      <td>very-low</td>\n",
       "    </tr>\n",
       "    <tr>\n",
       "      <th>2</th>\n",
       "      <td>GP</td>\n",
       "      <td>F</td>\n",
       "      <td>15.0</td>\n",
       "      <td>U</td>\n",
       "      <td>LE3</td>\n",
       "      <td>T</td>\n",
       "      <td>1.0</td>\n",
       "      <td>1.0</td>\n",
       "      <td>at_home</td>\n",
       "      <td>other</td>\n",
       "      <td>...</td>\n",
       "      <td>yes</td>\n",
       "      <td>no</td>\n",
       "      <td>4.0</td>\n",
       "      <td>3.0</td>\n",
       "      <td>2.0</td>\n",
       "      <td>2.0</td>\n",
       "      <td>3.0</td>\n",
       "      <td>3.0</td>\n",
       "      <td>10.0</td>\n",
       "      <td>low</td>\n",
       "    </tr>\n",
       "    <tr>\n",
       "      <th>3</th>\n",
       "      <td>GP</td>\n",
       "      <td>F</td>\n",
       "      <td>15.0</td>\n",
       "      <td>U</td>\n",
       "      <td>GT3</td>\n",
       "      <td>T</td>\n",
       "      <td>4.0</td>\n",
       "      <td>2.0</td>\n",
       "      <td>health</td>\n",
       "      <td>services</td>\n",
       "      <td>...</td>\n",
       "      <td>yes</td>\n",
       "      <td>yes</td>\n",
       "      <td>3.0</td>\n",
       "      <td>2.0</td>\n",
       "      <td>2.0</td>\n",
       "      <td>1.0</td>\n",
       "      <td>1.0</td>\n",
       "      <td>5.0</td>\n",
       "      <td>2.0</td>\n",
       "      <td>very-high</td>\n",
       "    </tr>\n",
       "    <tr>\n",
       "      <th>4</th>\n",
       "      <td>GP</td>\n",
       "      <td>F</td>\n",
       "      <td>16.0</td>\n",
       "      <td>U</td>\n",
       "      <td>GT3</td>\n",
       "      <td>T</td>\n",
       "      <td>3.0</td>\n",
       "      <td>3.0</td>\n",
       "      <td>other</td>\n",
       "      <td>other</td>\n",
       "      <td>...</td>\n",
       "      <td>no</td>\n",
       "      <td>no</td>\n",
       "      <td>4.0</td>\n",
       "      <td>3.0</td>\n",
       "      <td>2.0</td>\n",
       "      <td>1.0</td>\n",
       "      <td>2.0</td>\n",
       "      <td>5.0</td>\n",
       "      <td>4.0</td>\n",
       "      <td>low</td>\n",
       "    </tr>\n",
       "    <tr>\n",
       "      <th>...</th>\n",
       "      <td>...</td>\n",
       "      <td>...</td>\n",
       "      <td>...</td>\n",
       "      <td>...</td>\n",
       "      <td>...</td>\n",
       "      <td>...</td>\n",
       "      <td>...</td>\n",
       "      <td>...</td>\n",
       "      <td>...</td>\n",
       "      <td>...</td>\n",
       "      <td>...</td>\n",
       "      <td>...</td>\n",
       "      <td>...</td>\n",
       "      <td>...</td>\n",
       "      <td>...</td>\n",
       "      <td>...</td>\n",
       "      <td>...</td>\n",
       "      <td>...</td>\n",
       "      <td>...</td>\n",
       "      <td>...</td>\n",
       "      <td>...</td>\n",
       "    </tr>\n",
       "    <tr>\n",
       "      <th>390</th>\n",
       "      <td>MS</td>\n",
       "      <td>M</td>\n",
       "      <td>20.0</td>\n",
       "      <td>U</td>\n",
       "      <td>LE3</td>\n",
       "      <td>A</td>\n",
       "      <td>2.0</td>\n",
       "      <td>2.0</td>\n",
       "      <td>services</td>\n",
       "      <td>services</td>\n",
       "      <td>...</td>\n",
       "      <td>no</td>\n",
       "      <td>no</td>\n",
       "      <td>5.0</td>\n",
       "      <td>5.0</td>\n",
       "      <td>4.0</td>\n",
       "      <td>4.0</td>\n",
       "      <td>5.0</td>\n",
       "      <td>4.0</td>\n",
       "      <td>11.0</td>\n",
       "      <td>low</td>\n",
       "    </tr>\n",
       "    <tr>\n",
       "      <th>391</th>\n",
       "      <td>MS</td>\n",
       "      <td>M</td>\n",
       "      <td>17.0</td>\n",
       "      <td>U</td>\n",
       "      <td>LE3</td>\n",
       "      <td>T</td>\n",
       "      <td>3.0</td>\n",
       "      <td>1.0</td>\n",
       "      <td>services</td>\n",
       "      <td>services</td>\n",
       "      <td>...</td>\n",
       "      <td>yes</td>\n",
       "      <td>no</td>\n",
       "      <td>2.0</td>\n",
       "      <td>4.0</td>\n",
       "      <td>5.0</td>\n",
       "      <td>3.0</td>\n",
       "      <td>4.0</td>\n",
       "      <td>2.0</td>\n",
       "      <td>3.0</td>\n",
       "      <td>very-high</td>\n",
       "    </tr>\n",
       "    <tr>\n",
       "      <th>392</th>\n",
       "      <td>MS</td>\n",
       "      <td>M</td>\n",
       "      <td>21.0</td>\n",
       "      <td>R</td>\n",
       "      <td>GT3</td>\n",
       "      <td>T</td>\n",
       "      <td>1.0</td>\n",
       "      <td>1.0</td>\n",
       "      <td>other</td>\n",
       "      <td>other</td>\n",
       "      <td>...</td>\n",
       "      <td>no</td>\n",
       "      <td>no</td>\n",
       "      <td>5.0</td>\n",
       "      <td>5.0</td>\n",
       "      <td>3.0</td>\n",
       "      <td>3.0</td>\n",
       "      <td>3.0</td>\n",
       "      <td>3.0</td>\n",
       "      <td>3.0</td>\n",
       "      <td>very-low</td>\n",
       "    </tr>\n",
       "    <tr>\n",
       "      <th>393</th>\n",
       "      <td>MS</td>\n",
       "      <td>M</td>\n",
       "      <td>18.0</td>\n",
       "      <td>R</td>\n",
       "      <td>LE3</td>\n",
       "      <td>T</td>\n",
       "      <td>3.0</td>\n",
       "      <td>2.0</td>\n",
       "      <td>services</td>\n",
       "      <td>other</td>\n",
       "      <td>...</td>\n",
       "      <td>yes</td>\n",
       "      <td>no</td>\n",
       "      <td>4.0</td>\n",
       "      <td>4.0</td>\n",
       "      <td>1.0</td>\n",
       "      <td>3.0</td>\n",
       "      <td>4.0</td>\n",
       "      <td>5.0</td>\n",
       "      <td>0.0</td>\n",
       "      <td>low</td>\n",
       "    </tr>\n",
       "    <tr>\n",
       "      <th>394</th>\n",
       "      <td>MS</td>\n",
       "      <td>M</td>\n",
       "      <td>19.0</td>\n",
       "      <td>U</td>\n",
       "      <td>LE3</td>\n",
       "      <td>T</td>\n",
       "      <td>1.0</td>\n",
       "      <td>1.0</td>\n",
       "      <td>other</td>\n",
       "      <td>at_home</td>\n",
       "      <td>...</td>\n",
       "      <td>yes</td>\n",
       "      <td>no</td>\n",
       "      <td>3.0</td>\n",
       "      <td>2.0</td>\n",
       "      <td>3.0</td>\n",
       "      <td>3.0</td>\n",
       "      <td>3.0</td>\n",
       "      <td>5.0</td>\n",
       "      <td>5.0</td>\n",
       "      <td>low</td>\n",
       "    </tr>\n",
       "  </tbody>\n",
       "</table>\n",
       "<p>395 rows × 31 columns</p>\n",
       "</div>"
      ],
      "text/plain": [
       "    school sex   age address famsize Pstatus  Medu  Fedu      Mjob      Fjob  \\\n",
       "0       GP   F  18.0       U     GT3       A   4.0   4.0   at_home   teacher   \n",
       "1       GP   F  17.0       U     GT3       T   1.0   1.0   at_home     other   \n",
       "2       GP   F  15.0       U     LE3       T   1.0   1.0   at_home     other   \n",
       "3       GP   F  15.0       U     GT3       T   4.0   2.0    health  services   \n",
       "4       GP   F  16.0       U     GT3       T   3.0   3.0     other     other   \n",
       "..     ...  ..   ...     ...     ...     ...   ...   ...       ...       ...   \n",
       "390     MS   M  20.0       U     LE3       A   2.0   2.0  services  services   \n",
       "391     MS   M  17.0       U     LE3       T   3.0   1.0  services  services   \n",
       "392     MS   M  21.0       R     GT3       T   1.0   1.0     other     other   \n",
       "393     MS   M  18.0       R     LE3       T   3.0   2.0  services     other   \n",
       "394     MS   M  19.0       U     LE3       T   1.0   1.0     other   at_home   \n",
       "\n",
       "     ... internet romantic  famrel  freetime  goout Dalc Walc health absences  \\\n",
       "0    ...       no       no     4.0       3.0    4.0  1.0  1.0    3.0      6.0   \n",
       "1    ...      yes       no     5.0       3.0    3.0  1.0  1.0    3.0      4.0   \n",
       "2    ...      yes       no     4.0       3.0    2.0  2.0  3.0    3.0     10.0   \n",
       "3    ...      yes      yes     3.0       2.0    2.0  1.0  1.0    5.0      2.0   \n",
       "4    ...       no       no     4.0       3.0    2.0  1.0  2.0    5.0      4.0   \n",
       "..   ...      ...      ...     ...       ...    ...  ...  ...    ...      ...   \n",
       "390  ...       no       no     5.0       5.0    4.0  4.0  5.0    4.0     11.0   \n",
       "391  ...      yes       no     2.0       4.0    5.0  3.0  4.0    2.0      3.0   \n",
       "392  ...       no       no     5.0       5.0    3.0  3.0  3.0    3.0      3.0   \n",
       "393  ...      yes       no     4.0       4.0    1.0  3.0  4.0    5.0      0.0   \n",
       "394  ...      yes       no     3.0       2.0    3.0  3.0  3.0    5.0      5.0   \n",
       "\n",
       "        target  \n",
       "0     very-low  \n",
       "1     very-low  \n",
       "2          low  \n",
       "3    very-high  \n",
       "4          low  \n",
       "..         ...  \n",
       "390        low  \n",
       "391  very-high  \n",
       "392   very-low  \n",
       "393        low  \n",
       "394        low  \n",
       "\n",
       "[395 rows x 31 columns]"
      ]
     },
     "execution_count": 6,
     "metadata": {},
     "output_type": "execute_result"
    }
   ],
   "source": [
    "# Make data multiclass by slicing into 4 buckets\n",
    "y = df['G3'].to_numpy()\n",
    "buckets = np.array([8, 11, 14])\n",
    "y_cat = (y.reshape(-1, 1) > buckets.reshape(1, -1)).sum(axis=1)\n",
    "df['target'] = y_cat\n",
    "\n",
    "# map dictionary\n",
    "grade_dict = {0:'very-low', 1:'low', 2:'high',3:'very-high'}\n",
    "df['target'] = df['target'].map(grade_dict)\n",
    "\n",
    "# drop the other grade columns\n",
    "df = df.drop(columns=['G1','G2','G3'])\n",
    "\n",
    "df"
   ]
  },
  {
   "cell_type": "markdown",
   "metadata": {},
   "source": [
    "Let's look at the distrubtion of groups using some of the plotting functions in the holisticai library. We will begin by looking at the distrubution of newly crated 'target' column to get an idea of how the grades are distributed, then we will look at the distribution of some sensitive attributes."
   ]
  },
  {
   "cell_type": "code",
   "execution_count": 7,
   "metadata": {},
   "outputs": [
    {
     "data": {
      "text/plain": [
       "<AxesSubplot: xlabel='target', ylabel='Probability'>"
      ]
     },
     "execution_count": 7,
     "metadata": {},
     "output_type": "execute_result"
    },
    {
     "data": {
      "image/png": "[encoded data removed]",
      "text/plain": [
       "<Figure size 640x480 with 1 Axes>"
      ]
     },
     "metadata": {},
     "output_type": "display_data"
    }
   ],
   "source": [
    "# show distribution of target classes with a histogram\n",
    "histogram_plot(df['target'])"
   ]
  },
  {
   "cell_type": "markdown",
   "metadata": {},
   "source": [
    "The pie chart below shows the distribution ofthe different jobs students' Mothers have (Mjob) in the data. We can also look at the distribution of grades amongst different Mjob values using the frequency_matrix plot shown below. From the plot we observe students with a mother working in health have the highest percentage in the 'very-high' compared to any other job."
   ]
  },
  {
   "cell_type": "code",
   "execution_count": 8,
   "metadata": {},
   "outputs": [
    {
     "data": {
      "text/plain": [
       "<AxesSubplot: xlabel='Class', ylabel='Group'>"
      ]
     },
     "execution_count": 8,
     "metadata": {},
     "output_type": "execute_result"
    },
    {
     "data": {
      "image/png": "[encoded data removed]",
      "text/plain": [
       "<Figure size 640x480 with 1 Axes>"
      ]
     },
     "metadata": {},
     "output_type": "display_data"
    },
    {
     "data": {
      "image/png": "[encoded data removed]",
      "text/plain": [
       "<Figure size 640x480 with 2 Axes>"
      ]
     },
     "metadata": {},
     "output_type": "display_data"
    }
   ],
   "source": [
    "# use the pie plot function to explore the balance of 'Mjob' attribute\n",
    "group_pie_plot(df['Mjob'])\n",
    "\n",
    "# frequency matrix of mothers' jobs and grade groups\n",
    "frequency_matrix_plot(df['Mjob'], df['target'], normalize='group')"
   ]
  },
  {
   "cell_type": "markdown",
   "metadata": {},
   "source": [
    "<font color='red'>  **Task 1**\n",
    "- **Create a pie plot, and a frequency matrix plot for the 'Fjob' attribute.**\n",
    "<font >"
   ]
  },
  {
   "cell_type": "code",
   "execution_count": 9,
   "metadata": {},
   "outputs": [],
   "source": [
    "# TODO\n",
    "# TODO"
   ]
  },
  {
   "cell_type": "markdown",
   "metadata": {},
   "source": [
    "<font color='red'> **Question 1**\n",
    "- **What does the frequency matrix plot tell you about the distribution of grades among the jobs student's fathers have?**\n",
    "<font > "
   ]
  },
  {
   "cell_type": "markdown",
   "metadata": {},
   "source": [
    "Answer: "
   ]
  },
  {
   "cell_type": "markdown",
   "metadata": {},
   "source": [
    "### 2 - Pre-processing the data and training the model"
   ]
  },
  {
   "cell_type": "markdown",
   "metadata": {},
   "source": [
    "In this next section, we are going to prepare the data for the training of a multiclass classification model. We will use sklearn's Random Forest Classifier as our model of choice, and use its train_test_split function to split our dataset. Note, we do not want to include protected attributes in the training so we will remove 'sex', 'address', 'Mjob', and 'Fjob' from the features during training and inference. For the attributes we want to train the model on, we use one-hot encoding for each of them. After training, we will evaluate the model's performance overall and then audit it for bias."
   ]
  },
  {
   "cell_type": "code",
   "execution_count": 10,
   "metadata": {},
   "outputs": [],
   "source": [
    "# we don't want to encode protected attributes\n",
    "protected_attributes = ['sex', 'address', 'Mjob', 'Fjob']\n",
    "label_attributes = ['target']\n",
    "\n",
    "# preprocess categorical columns\n",
    "def preprocess_data(data, protected_attributes, label_attributes):\n",
    "    categoricals = []\n",
    "    for col in data.columns:\n",
    "        if col not in protected_attributes and col not in label_attributes and data[col].dtype == object:\n",
    "            categoricals.append(col)\n",
    "\n",
    "    cat_encoder = OneHotEncoder()  \n",
    "    enc = cat_encoder.fit_transform(data[categoricals])\n",
    "    enc = pd.DataFrame(enc.toarray())\n",
    "    df = pd.concat([data,enc],axis=1).drop(columns=categoricals) # add encoded columns\n",
    "    df = df.rename(str, axis='columns')\n",
    "    return df\n",
    "\n",
    "# Load, preprocess and split for training\n",
    "preproc_data = preprocess_data(df, protected_attributes, label_attributes)\n",
    "train, test = train_test_split(preproc_data, test_size=0.4, random_state=42)\n",
    "\n",
    "# set up data for training\n",
    "X_train = train.drop(columns=label_attributes)\n",
    "X_test = test.drop(columns=label_attributes)\n",
    "y_train = train['target']\n",
    "y_test = test['target']\n",
    "\n",
    "\n",
    "# Train a simple Random Forest Classifier\n",
    "model = RandomForestClassifier(random_state=111)\n",
    "model.fit(X_train.drop(columns=protected_attributes), y_train)\n",
    "\n",
    "# Predict values\n",
    "y_pred = model.predict(X_test.drop(columns=protected_attributes))"
   ]
  },
  {
   "cell_type": "markdown",
   "metadata": {},
   "source": [
    "Now we can use the metrics from the holisticai library to evaluate the models performance. First we will establish the distribution of the classes to get a baseline to compare our metrics to and then we will calculate accuracy, precision, recall and the confusion matrix."
   ]
  },
  {
   "cell_type": "code",
   "execution_count": 11,
   "metadata": {},
   "outputs": [
    {
     "name": "stdout",
     "output_type": "stream",
     "text": [
      "low          47\n",
      "very-low     47\n",
      "high         33\n",
      "very-high    31\n",
      "Name: target, dtype: int64\n",
      "Zero Rate Classification Accuracy: 0.297\n"
     ]
    }
   ],
   "source": [
    "print(y_test.value_counts())\n",
    "print('Zero Rate Classification Accuracy:', round(max(y_test.value_counts())/y_test.value_counts().sum(),3))"
   ]
  },
  {
   "cell_type": "markdown",
   "metadata": {},
   "source": [
    "In the cell above we find the ZeroR classification accuracy (the accuracy of predicting the most common class), to be approximately 30%. Since the classes aren't perfectly balance, we take the ZeroR as our baseline as opposed to guessing each class with 25% probability. Ideally the model should achieve a higher accuracy than this for it to be useful for the problem."
   ]
  },
  {
   "cell_type": "code",
   "execution_count": 12,
   "metadata": {},
   "outputs": [
    {
     "name": "stdout",
     "output_type": "stream",
     "text": [
      "Accuracy: 0.418\n",
      "\n",
      "Precision Scores by Group:\n",
      "very-low: 0.72\n",
      "low: 0.386\n",
      "high: 0.235\n",
      "very-high: 0.5\n",
      "\n",
      "Recall Scores by Group:\n",
      "very-low: 0.383\n",
      "low: 0.681\n",
      "high: 0.242\n",
      "very-high: 0.258\n",
      "\n"
     ]
    },
    {
     "data": {
      "text/html": [
       "<div>\n",
       "<style scoped>\n",
       "    .dataframe tbody tr th:only-of-type {\n",
       "        vertical-align: middle;\n",
       "    }\n",
       "\n",
       "    .dataframe tbody tr th {\n",
       "        vertical-align: top;\n",
       "    }\n",
       "\n",
       "    .dataframe thead th {\n",
       "        text-align: right;\n",
       "    }\n",
       "</style>\n",
       "<table border=\"1\" class=\"dataframe\">\n",
       "  <thead>\n",
       "    <tr style=\"text-align: right;\">\n",
       "      <th></th>\n",
       "      <th>very-low</th>\n",
       "      <th>low</th>\n",
       "      <th>high</th>\n",
       "      <th>very-high</th>\n",
       "    </tr>\n",
       "  </thead>\n",
       "  <tbody>\n",
       "    <tr>\n",
       "      <th>very-low</th>\n",
       "      <td>18.0</td>\n",
       "      <td>4.0</td>\n",
       "      <td>1.0</td>\n",
       "      <td>2.0</td>\n",
       "    </tr>\n",
       "    <tr>\n",
       "      <th>low</th>\n",
       "      <td>19.0</td>\n",
       "      <td>32.0</td>\n",
       "      <td>22.0</td>\n",
       "      <td>10.0</td>\n",
       "    </tr>\n",
       "    <tr>\n",
       "      <th>high</th>\n",
       "      <td>7.0</td>\n",
       "      <td>8.0</td>\n",
       "      <td>8.0</td>\n",
       "      <td>11.0</td>\n",
       "    </tr>\n",
       "    <tr>\n",
       "      <th>very-high</th>\n",
       "      <td>3.0</td>\n",
       "      <td>3.0</td>\n",
       "      <td>2.0</td>\n",
       "      <td>8.0</td>\n",
       "    </tr>\n",
       "  </tbody>\n",
       "</table>\n",
       "</div>"
      ],
      "text/plain": [
       "           very-low   low  high  very-high\n",
       "very-low       18.0   4.0   1.0        2.0\n",
       "low            19.0  32.0  22.0       10.0\n",
       "high            7.0   8.0   8.0       11.0\n",
       "very-high       3.0   3.0   2.0        8.0"
      ]
     },
     "execution_count": 12,
     "metadata": {},
     "output_type": "execute_result"
    }
   ],
   "source": [
    "# evaluate models performance\n",
    "print ('Accuracy:', np.round(accuracy_score(y_test, y_pred),3))\n",
    "print()\n",
    "print ('Precision Scores by Group:')\n",
    "print('\\n'.join('{}: {}'.format(*k) for k in zip(['very-low','low','high','very-high'],np.round(precision_score(y_test, y_pred, average=None, labels=['very-low','low','high','very-high']),3))))\n",
    "print()\n",
    "print ('Recall Scores by Group:')\n",
    "print('\\n'.join('{}: {}'.format(*k) for k in zip(['very-low','low','high','very-high'],np.round(recall_score(y_test, y_pred, average=None, labels=['very-low','low','high','very-high']),3))))\n",
    "print()\n",
    "confusion_matrix(y_pred, y_test, classes=['very-low','low','high','very-high'])"
   ]
  },
  {
   "cell_type": "markdown",
   "metadata": {},
   "source": [
    "Using the 'very-low' category as an example, the precision measures the percentage of students correctly predicted as 'very-low' out of all predicted as 'very-low, while recall measures the percentage of correct 'very-low' predictions out of all actual 'very-low' labels (True Positive Rate). For both, the ideal value is 1. In the confusion matrix, the columns represent the ground-truth label of the datapoint and the rows represent the prediction. The diagonals of the matrix represent the correctly predicted entries. In the first column, 18 'very-low' points were correctly predicted, while 19 were incorrectly predited as 'low', 7 as 'high', and 3 as 'very-high'. In the first row, 4 'low', 1 'high' and 2 'very-high' points were incorrectly predicted as 'very-low'."
   ]
  },
  {
   "cell_type": "markdown",
   "metadata": {},
   "source": [
    "### 3 - Measuring bias\n",
    "In this section, we will audit our model for bias using a number of metrics. We will investigate bias with respect to 'Mjob' attribute."
   ]
  },
  {
   "cell_type": "markdown",
   "metadata": {},
   "source": [
    "Before we perform the bias audit, we need to reframe our bias metrics in the context of multi-class classification. As in the binary classification case, the metrics fall under one of two groups: Equality of Outcome, and Equality of Opportunity. \n",
    "\n",
    "Let's consider two groups. In the binary case, Equality of Outcome is satisfied if the probability of being predicted the preferred outcome is equal for both groups, where the preferred outcome  is represented as $\\hat{Y} = 1$, and belonging to an unprivileged group is represented as $A=1$. More formally, $P(\\hat{Y}=1 \\vert A = 0) = P(\\hat{Y}=1 \\vert A = 1)$, where $\\hat{Y}$ is the predicted outcome, and $A$ is the group the person belongs to. In the multiclass case, the probability of predicted any class $k$ must be the same for all classes. Formalizing this, we have $P(\\hat{Y}=k \\vert A = 0) = P(\\hat{Y}=k \\vert A = 1) \\ \\forall \\ k \\in \\{1,2,...,n\\}$ and $n$ is the number of classes. We can measure Statistical Parity to determine how far away a classifier is from Equality of Outcome. \n",
    "\n",
    "For statistical parity, we create a probability vector for each group, where the vector stores the probability of predicting each class: $P(\\hat{Y}=k \\vert A = a_i)$, where $k$ is the predicted class and $a_i$ is the group that data point belongs to such that  $a_i \\in \\{a_1,a_2,...,a_m\\} $ and $m$ the number of different groups in the protected attribute. We then calculate the distance between these vectors to get the statistical parity between the two groups in the multiclass case. In the event of having more than one group, we can caluclate the statistical parity for every possible pairing of groups and then aggregate the distances by either taking the mean or the maximum value. The ideal value is 0, but values below 0.1 are acceptable.\n",
    "\n",
    "\n",
    "Equality of Opportunity is satisfied if the probability of *correctly* predicting an outcome is equal for both groups, for all classes. More formally, $P(\\hat{Y}=k \\vert A = 0,Y=k) = P(\\hat{Y}=k \\vert A = 1,Y=k) \\ \\forall \\ k \\in \\{1,2,...,n\\}$, $\\hat{Y}$ is the predicted outcome, $A$ is the group the person belongs to, and $Y$ is the ground truth label. To compute whether or not a system satisfies this condition, we can compute a matrix of error rates for each group and calculate the distance between them. Once again, if there are more than two groups we can calculate the metric for every possible pair of groups and then aggregate using the mean or maximum value."
   ]
  },
  {
   "cell_type": "markdown",
   "metadata": {},
   "source": [
    "Let's compute the statistical parity using both aggregation methods. For both cases we will see that the model shows bias with respect to the 'Mjob' attribute."
   ]
  },
  {
   "cell_type": "code",
   "execution_count": 13,
   "metadata": {},
   "outputs": [
    {
     "name": "stdout",
     "output_type": "stream",
     "text": [
      "Mean Statsitical Parity: 0.147\n",
      "Max Statsitical Parity: 0.278\n"
     ]
    }
   ],
   "source": [
    "# set up vectors\n",
    "p_attr = test['Mjob']                                               # protected attribute\n",
    "y_pred = model.predict(X_test.drop(columns=protected_attributes))   # multiclass prediction vector\n",
    "y_true = y_test                                                     # multiclass label vector\n",
    "\n",
    "\n",
    "# Mean Statsitical Parity\n",
    "print('Mean Statsitical Parity:', round(multiclass_statistical_parity(\n",
    "    p_attr, y_pred, aggregation_fun=\"mean\"\n",
    "),3))\n",
    "\n",
    "# Max Statsitical Parity\n",
    "print('Max Statsitical Parity:', round(multiclass_statistical_parity(\n",
    "    p_attr, y_pred, aggregation_fun=\"max\"\n",
    "),3))"
   ]
  },
  {
   "cell_type": "markdown",
   "metadata": {},
   "source": [
    "We can do the same for Equality of Opportunity, and we see simialr results."
   ]
  },
  {
   "cell_type": "code",
   "execution_count": 14,
   "metadata": {},
   "outputs": [
    {
     "name": "stdout",
     "output_type": "stream",
     "text": [
      "Mean Equality of Opportunity: 0.342\n"
     ]
    }
   ],
   "source": [
    "print('Mean Equality of Opportunity:', round(multiclass_equality_of_opp(\n",
    "    p_attr, y_pred, y_true, aggregation_fun=\"mean\"\n",
    "),3))\n"
   ]
  },
  {
   "cell_type": "code",
   "execution_count": 15,
   "metadata": {},
   "outputs": [
    {
     "name": "stdout",
     "output_type": "stream",
     "text": [
      "Mean Equality of Opportunity: 0.469\n"
     ]
    }
   ],
   "source": [
    "print('Mean Equality of Opportunity:', round(multiclass_equality_of_opp(\n",
    "    p_attr, y_pred, y_true, aggregation_fun=\"max\"\n",
    "),3))\n"
   ]
  },
  {
   "cell_type": "markdown",
   "metadata": {},
   "source": [
    "Now that you've seen how to set up the data to measure bias, your task will be to assess the model's bias with respect to the 'Fjob' attribute. In the cells below, follow the procedure for measuring bias using the holisticai library and functions."
   ]
  },
  {
   "cell_type": "markdown",
   "metadata": {},
   "source": [
    "<font color='red'>  **Task 2**\n",
    "- **Measure the 'mean' and 'max' Statistical Parity, and Equality of Opportunity metrics for the 'Fjob' attribute.**\n",
    "<font >"
   ]
  },
  {
   "cell_type": "code",
   "execution_count": 16,
   "metadata": {},
   "outputs": [],
   "source": [
    "# set up vectors for address\n",
    "\n",
    "# set up vectors\n",
    "p_attr = test['Fjob']                                               # protected attribute\n",
    "y_pred = model.predict(X_test.drop(columns=protected_attributes))   # multiclass prediction vector\n",
    "y_true = y_test                                                     # multiclass label vector\n",
    "\n",
    "# TODO\n",
    "\n",
    "# TODO\n"
   ]
  },
  {
   "cell_type": "markdown",
   "metadata": {},
   "source": [
    "You should get the following results:\n",
    "\n",
    "| Metric | Value | Reference |\n",
    "| --- | --- | --- |\n",
    "| Statistical Parity Mean      | 0.242 | 0 |\n",
    "| Statistical Parity Max       | 0.337 | 0 |\n",
    "| Equality of Opportunity Mean | 0.414 | 0 |\n",
    "| Equality of Opportunity Max  | 0.562 | 0 |\n",
    "\n"
   ]
  },
  {
   "cell_type": "code",
   "execution_count": 17,
   "metadata": {},
   "outputs": [
    {
     "data": {
      "text/plain": [
       "<AxesSubplot: xlabel='Class', ylabel='Group'>"
      ]
     },
     "execution_count": 17,
     "metadata": {},
     "output_type": "execute_result"
    },
    {
     "data": {
      "image/png": "[encoded data removed]",
      "text/plain": [
       "<Figure size 640x480 with 2 Axes>"
      ]
     },
     "metadata": {},
     "output_type": "display_data"
    }
   ],
   "source": [
    "frequency_matrix_plot(p_attr, y_pred, normalize='group')"
   ]
  },
  {
   "cell_type": "markdown",
   "metadata": {},
   "source": [
    "\n",
    "<font color='red'>  **Question 2**\n",
    "- **Is the model biased? Comment on the model's performance with respect to the protected attribute. (Use the above frequency matrix plot in your analysis)**\n",
    "<font >"
   ]
  },
  {
   "cell_type": "markdown",
   "metadata": {},
   "source": [
    "Answer: "
   ]
  },
  {
   "cell_type": "code",
   "execution_count": null,
   "metadata": {},
   "outputs": [],
   "source": []
  }
 ],
 "metadata": {
  "kernelspec": {
   "display_name": "Python 3 (ipykernel)",
   "language": "python",
   "name": "python3"
  },
  "language_info": {
   "codemirror_mode": {
    "name": "ipython",
    "version": 3
   },
   "file_extension": ".py",
   "mimetype": "text/x-python",
   "name": "python",
   "nbconvert_exporter": "python",
   "pygments_lexer": "ipython3",
   "version": "3.9.0"
  },
  "vscode": {
   "interpreter": {
    "hash": "741731a26e7342035280729888e8454f90db802238e65f73db4fbc439e29314c"
   }
  }
 },
 "nbformat": 4,
 "nbformat_minor": 2
}

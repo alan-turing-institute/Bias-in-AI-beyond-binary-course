{
 "cells": [
  {
   "cell_type": "markdown",
   "metadata": {
    "collapsed": false,
    "pycharm": {
     "name": "#%% md\n"
    }
   },
   "source": [
    "# Measuring bias in recommender systems"
   ]
  },
  {
   "cell_type": "markdown",
   "metadata": {
    "collapsed": false
   },
   "source": [
    "This is an introduction to fairness in recommender systems. A recommender system aims to recommend the best items according to the user preference.\n",
    "\n",
    "A recommender system can be biased in multiple ways. For example, we may be concerned that the artists in our database will not get equal representation (item fairness). Alternative, our main concern may be that different groups of users (e.g. male/female users) will get different music recommendations (user fairness). In the following, we will show how to explore the data for fairness, and measure these various types of fairness using the holisticai library."
   ]
  },
  {
   "cell_type": "markdown",
   "metadata": {},
   "source": [
    "### 0 - Importing modules and loading the data"
   ]
  },
  {
   "cell_type": "markdown",
   "metadata": {
    "collapsed": false
   },
   "source": [
    "We will start by importing the example dataset, which we host on our library. The [dataset](https://www.kaggle.com/datasets/ravichaubey1506/lastfm) contains a set of artists that were downloaded by users. It includes personal information about the user, specifically sex and country of origin. A user can download more than one artist. We will use the column \"score\", which contains only 1s for counting the interactions."
   ]
  },
  {
   "cell_type": "code",
   "execution_count": null,
   "metadata": {},
   "outputs": [],
   "source": [
    "!pip install holisticai"
   ]
  },
  {
   "cell_type": "code",
   "execution_count": 3,
   "metadata": {
    "collapsed": false,
    "pycharm": {
     "name": "#%%\n"
    }
   },
   "outputs": [
    {
     "data": {
      "text/html": [
       "<div>\n",
       "<style scoped>\n",
       "    .dataframe tbody tr th:only-of-type {\n",
       "        vertical-align: middle;\n",
       "    }\n",
       "\n",
       "    .dataframe tbody tr th {\n",
       "        vertical-align: top;\n",
       "    }\n",
       "\n",
       "    .dataframe thead th {\n",
       "        text-align: right;\n",
       "    }\n",
       "</style>\n",
       "<table border=\"1\" class=\"dataframe\">\n",
       "  <thead>\n",
       "    <tr style=\"text-align: right;\">\n",
       "      <th></th>\n",
       "      <th>user</th>\n",
       "      <th>artist</th>\n",
       "      <th>sex</th>\n",
       "      <th>country</th>\n",
       "      <th>score</th>\n",
       "    </tr>\n",
       "  </thead>\n",
       "  <tbody>\n",
       "    <tr>\n",
       "      <th>0</th>\n",
       "      <td>1.0</td>\n",
       "      <td>red hot chili peppers</td>\n",
       "      <td>f</td>\n",
       "      <td>Germany</td>\n",
       "      <td>1</td>\n",
       "    </tr>\n",
       "    <tr>\n",
       "      <th>1</th>\n",
       "      <td>1.0</td>\n",
       "      <td>the black dahlia murder</td>\n",
       "      <td>f</td>\n",
       "      <td>Germany</td>\n",
       "      <td>1</td>\n",
       "    </tr>\n",
       "    <tr>\n",
       "      <th>2</th>\n",
       "      <td>1.0</td>\n",
       "      <td>goldfrapp</td>\n",
       "      <td>f</td>\n",
       "      <td>Germany</td>\n",
       "      <td>1</td>\n",
       "    </tr>\n",
       "    <tr>\n",
       "      <th>3</th>\n",
       "      <td>1.0</td>\n",
       "      <td>dropkick murphys</td>\n",
       "      <td>f</td>\n",
       "      <td>Germany</td>\n",
       "      <td>1</td>\n",
       "    </tr>\n",
       "    <tr>\n",
       "      <th>4</th>\n",
       "      <td>1.0</td>\n",
       "      <td>le tigre</td>\n",
       "      <td>f</td>\n",
       "      <td>Germany</td>\n",
       "      <td>1</td>\n",
       "    </tr>\n",
       "    <tr>\n",
       "      <th>...</th>\n",
       "      <td>...</td>\n",
       "      <td>...</td>\n",
       "      <td>...</td>\n",
       "      <td>...</td>\n",
       "      <td>...</td>\n",
       "    </tr>\n",
       "    <tr>\n",
       "      <th>289950</th>\n",
       "      <td>19718.0</td>\n",
       "      <td>bob dylan</td>\n",
       "      <td>f</td>\n",
       "      <td>Canada</td>\n",
       "      <td>1</td>\n",
       "    </tr>\n",
       "    <tr>\n",
       "      <th>289951</th>\n",
       "      <td>19718.0</td>\n",
       "      <td>pixies</td>\n",
       "      <td>f</td>\n",
       "      <td>Canada</td>\n",
       "      <td>1</td>\n",
       "    </tr>\n",
       "    <tr>\n",
       "      <th>289952</th>\n",
       "      <td>19718.0</td>\n",
       "      <td>the clash</td>\n",
       "      <td>f</td>\n",
       "      <td>Canada</td>\n",
       "      <td>1</td>\n",
       "    </tr>\n",
       "    <tr>\n",
       "      <th>289953</th>\n",
       "      <td>19718.0</td>\n",
       "      <td>a tribe called quest</td>\n",
       "      <td>f</td>\n",
       "      <td>Canada</td>\n",
       "      <td>1</td>\n",
       "    </tr>\n",
       "    <tr>\n",
       "      <th>289954</th>\n",
       "      <td>19718.0</td>\n",
       "      <td>radiohead</td>\n",
       "      <td>f</td>\n",
       "      <td>Canada</td>\n",
       "      <td>1</td>\n",
       "    </tr>\n",
       "  </tbody>\n",
       "</table>\n",
       "<p>289955 rows × 5 columns</p>\n",
       "</div>"
      ],
      "text/plain": [
       "           user                   artist sex  country  score\n",
       "0           1.0    red hot chili peppers   f  Germany      1\n",
       "1           1.0  the black dahlia murder   f  Germany      1\n",
       "2           1.0                goldfrapp   f  Germany      1\n",
       "3           1.0         dropkick murphys   f  Germany      1\n",
       "4           1.0                 le tigre   f  Germany      1\n",
       "...         ...                      ...  ..      ...    ...\n",
       "289950  19718.0                bob dylan   f   Canada      1\n",
       "289951  19718.0                   pixies   f   Canada      1\n",
       "289952  19718.0                the clash   f   Canada      1\n",
       "289953  19718.0     a tribe called quest   f   Canada      1\n",
       "289954  19718.0                radiohead   f   Canada      1\n",
       "\n",
       "[289955 rows x 5 columns]"
      ]
     },
     "execution_count": 3,
     "metadata": {},
     "output_type": "execute_result"
    }
   ],
   "source": [
    "import numpy as np\n",
    "import pandas as pd\n",
    "from holisticai.datasets import load_last_fm\n",
    "\n",
    "bunch = load_last_fm()\n",
    "lastfm = bunch['frame']\n",
    "lastfm['score'] = 1\n",
    "lastfm"
   ]
  },
  {
   "cell_type": "markdown",
   "metadata": {},
   "source": [
    "### 1- Exploring the dataset"
   ]
  },
  {
   "cell_type": "markdown",
   "metadata": {
    "collapsed": false
   },
   "source": [
    "We first need to 'pivot' the dataframe to an interaction matrix, where every row is a user and every column is an artist. We can use the formatting function provided in the library, the output dataframe can be used as an input to the bias metric functions for recommenders."
   ]
  },
  {
   "cell_type": "code",
   "execution_count": 4,
   "metadata": {},
   "outputs": [
    {
     "data": {
      "text/html": [
       "<div>\n",
       "<style scoped>\n",
       "    .dataframe tbody tr th:only-of-type {\n",
       "        vertical-align: middle;\n",
       "    }\n",
       "\n",
       "    .dataframe tbody tr th {\n",
       "        vertical-align: top;\n",
       "    }\n",
       "\n",
       "    .dataframe thead th {\n",
       "        text-align: right;\n",
       "    }\n",
       "</style>\n",
       "<table border=\"1\" class=\"dataframe\">\n",
       "  <thead>\n",
       "    <tr style=\"text-align: right;\">\n",
       "      <th>artist</th>\n",
       "      <th>...and you will know us by the trail of dead</th>\n",
       "      <th>2pac</th>\n",
       "      <th>3 doors down</th>\n",
       "      <th>30 seconds to mars</th>\n",
       "      <th>311</th>\n",
       "      <th>36 crazyfists</th>\n",
       "      <th>44</th>\n",
       "      <th>50 cent</th>\n",
       "      <th>65daysofstatic</th>\n",
       "      <th>Edith piaf</th>\n",
       "      <th>...</th>\n",
       "      <th>weezer</th>\n",
       "      <th>wilco</th>\n",
       "      <th>within temptation</th>\n",
       "      <th>wolfgang amadeus mozart</th>\n",
       "      <th>wu-tang clan</th>\n",
       "      <th>yann tiersen</th>\n",
       "      <th>yeah yeah yeahs</th>\n",
       "      <th>yellowcard</th>\n",
       "      <th>yo la tengo</th>\n",
       "      <th>zero 7</th>\n",
       "    </tr>\n",
       "    <tr>\n",
       "      <th>user</th>\n",
       "      <th></th>\n",
       "      <th></th>\n",
       "      <th></th>\n",
       "      <th></th>\n",
       "      <th></th>\n",
       "      <th></th>\n",
       "      <th></th>\n",
       "      <th></th>\n",
       "      <th></th>\n",
       "      <th></th>\n",
       "      <th></th>\n",
       "      <th></th>\n",
       "      <th></th>\n",
       "      <th></th>\n",
       "      <th></th>\n",
       "      <th></th>\n",
       "      <th></th>\n",
       "      <th></th>\n",
       "      <th></th>\n",
       "      <th></th>\n",
       "      <th></th>\n",
       "    </tr>\n",
       "  </thead>\n",
       "  <tbody>\n",
       "    <tr>\n",
       "      <th>1.0</th>\n",
       "      <td>NaN</td>\n",
       "      <td>NaN</td>\n",
       "      <td>NaN</td>\n",
       "      <td>NaN</td>\n",
       "      <td>NaN</td>\n",
       "      <td>NaN</td>\n",
       "      <td>NaN</td>\n",
       "      <td>NaN</td>\n",
       "      <td>NaN</td>\n",
       "      <td>NaN</td>\n",
       "      <td>...</td>\n",
       "      <td>NaN</td>\n",
       "      <td>NaN</td>\n",
       "      <td>NaN</td>\n",
       "      <td>NaN</td>\n",
       "      <td>NaN</td>\n",
       "      <td>NaN</td>\n",
       "      <td>NaN</td>\n",
       "      <td>NaN</td>\n",
       "      <td>NaN</td>\n",
       "      <td>NaN</td>\n",
       "    </tr>\n",
       "    <tr>\n",
       "      <th>3.0</th>\n",
       "      <td>NaN</td>\n",
       "      <td>NaN</td>\n",
       "      <td>NaN</td>\n",
       "      <td>NaN</td>\n",
       "      <td>NaN</td>\n",
       "      <td>NaN</td>\n",
       "      <td>NaN</td>\n",
       "      <td>NaN</td>\n",
       "      <td>NaN</td>\n",
       "      <td>NaN</td>\n",
       "      <td>...</td>\n",
       "      <td>NaN</td>\n",
       "      <td>NaN</td>\n",
       "      <td>NaN</td>\n",
       "      <td>NaN</td>\n",
       "      <td>NaN</td>\n",
       "      <td>NaN</td>\n",
       "      <td>NaN</td>\n",
       "      <td>NaN</td>\n",
       "      <td>NaN</td>\n",
       "      <td>NaN</td>\n",
       "    </tr>\n",
       "    <tr>\n",
       "      <th>4.0</th>\n",
       "      <td>NaN</td>\n",
       "      <td>NaN</td>\n",
       "      <td>NaN</td>\n",
       "      <td>NaN</td>\n",
       "      <td>NaN</td>\n",
       "      <td>NaN</td>\n",
       "      <td>NaN</td>\n",
       "      <td>NaN</td>\n",
       "      <td>NaN</td>\n",
       "      <td>NaN</td>\n",
       "      <td>...</td>\n",
       "      <td>NaN</td>\n",
       "      <td>NaN</td>\n",
       "      <td>NaN</td>\n",
       "      <td>NaN</td>\n",
       "      <td>NaN</td>\n",
       "      <td>NaN</td>\n",
       "      <td>NaN</td>\n",
       "      <td>NaN</td>\n",
       "      <td>NaN</td>\n",
       "      <td>NaN</td>\n",
       "    </tr>\n",
       "    <tr>\n",
       "      <th>5.0</th>\n",
       "      <td>NaN</td>\n",
       "      <td>NaN</td>\n",
       "      <td>NaN</td>\n",
       "      <td>NaN</td>\n",
       "      <td>NaN</td>\n",
       "      <td>NaN</td>\n",
       "      <td>NaN</td>\n",
       "      <td>NaN</td>\n",
       "      <td>NaN</td>\n",
       "      <td>NaN</td>\n",
       "      <td>...</td>\n",
       "      <td>NaN</td>\n",
       "      <td>NaN</td>\n",
       "      <td>NaN</td>\n",
       "      <td>NaN</td>\n",
       "      <td>NaN</td>\n",
       "      <td>NaN</td>\n",
       "      <td>NaN</td>\n",
       "      <td>NaN</td>\n",
       "      <td>NaN</td>\n",
       "      <td>NaN</td>\n",
       "    </tr>\n",
       "    <tr>\n",
       "      <th>6.0</th>\n",
       "      <td>NaN</td>\n",
       "      <td>NaN</td>\n",
       "      <td>NaN</td>\n",
       "      <td>NaN</td>\n",
       "      <td>NaN</td>\n",
       "      <td>NaN</td>\n",
       "      <td>NaN</td>\n",
       "      <td>NaN</td>\n",
       "      <td>NaN</td>\n",
       "      <td>NaN</td>\n",
       "      <td>...</td>\n",
       "      <td>NaN</td>\n",
       "      <td>NaN</td>\n",
       "      <td>NaN</td>\n",
       "      <td>NaN</td>\n",
       "      <td>NaN</td>\n",
       "      <td>NaN</td>\n",
       "      <td>NaN</td>\n",
       "      <td>NaN</td>\n",
       "      <td>NaN</td>\n",
       "      <td>NaN</td>\n",
       "    </tr>\n",
       "    <tr>\n",
       "      <th>...</th>\n",
       "      <td>...</td>\n",
       "      <td>...</td>\n",
       "      <td>...</td>\n",
       "      <td>...</td>\n",
       "      <td>...</td>\n",
       "      <td>...</td>\n",
       "      <td>...</td>\n",
       "      <td>...</td>\n",
       "      <td>...</td>\n",
       "      <td>...</td>\n",
       "      <td>...</td>\n",
       "      <td>...</td>\n",
       "      <td>...</td>\n",
       "      <td>...</td>\n",
       "      <td>...</td>\n",
       "      <td>...</td>\n",
       "      <td>...</td>\n",
       "      <td>...</td>\n",
       "      <td>...</td>\n",
       "      <td>...</td>\n",
       "      <td>...</td>\n",
       "    </tr>\n",
       "    <tr>\n",
       "      <th>19713.0</th>\n",
       "      <td>NaN</td>\n",
       "      <td>NaN</td>\n",
       "      <td>NaN</td>\n",
       "      <td>NaN</td>\n",
       "      <td>NaN</td>\n",
       "      <td>NaN</td>\n",
       "      <td>NaN</td>\n",
       "      <td>NaN</td>\n",
       "      <td>NaN</td>\n",
       "      <td>NaN</td>\n",
       "      <td>...</td>\n",
       "      <td>NaN</td>\n",
       "      <td>NaN</td>\n",
       "      <td>NaN</td>\n",
       "      <td>NaN</td>\n",
       "      <td>NaN</td>\n",
       "      <td>NaN</td>\n",
       "      <td>NaN</td>\n",
       "      <td>NaN</td>\n",
       "      <td>NaN</td>\n",
       "      <td>NaN</td>\n",
       "    </tr>\n",
       "    <tr>\n",
       "      <th>19714.0</th>\n",
       "      <td>NaN</td>\n",
       "      <td>NaN</td>\n",
       "      <td>NaN</td>\n",
       "      <td>NaN</td>\n",
       "      <td>NaN</td>\n",
       "      <td>NaN</td>\n",
       "      <td>NaN</td>\n",
       "      <td>NaN</td>\n",
       "      <td>NaN</td>\n",
       "      <td>NaN</td>\n",
       "      <td>...</td>\n",
       "      <td>NaN</td>\n",
       "      <td>NaN</td>\n",
       "      <td>NaN</td>\n",
       "      <td>NaN</td>\n",
       "      <td>NaN</td>\n",
       "      <td>NaN</td>\n",
       "      <td>NaN</td>\n",
       "      <td>NaN</td>\n",
       "      <td>NaN</td>\n",
       "      <td>NaN</td>\n",
       "    </tr>\n",
       "    <tr>\n",
       "      <th>19715.0</th>\n",
       "      <td>NaN</td>\n",
       "      <td>NaN</td>\n",
       "      <td>NaN</td>\n",
       "      <td>NaN</td>\n",
       "      <td>NaN</td>\n",
       "      <td>NaN</td>\n",
       "      <td>NaN</td>\n",
       "      <td>NaN</td>\n",
       "      <td>NaN</td>\n",
       "      <td>NaN</td>\n",
       "      <td>...</td>\n",
       "      <td>NaN</td>\n",
       "      <td>NaN</td>\n",
       "      <td>NaN</td>\n",
       "      <td>1.0</td>\n",
       "      <td>NaN</td>\n",
       "      <td>NaN</td>\n",
       "      <td>NaN</td>\n",
       "      <td>NaN</td>\n",
       "      <td>NaN</td>\n",
       "      <td>NaN</td>\n",
       "    </tr>\n",
       "    <tr>\n",
       "      <th>19717.0</th>\n",
       "      <td>NaN</td>\n",
       "      <td>NaN</td>\n",
       "      <td>NaN</td>\n",
       "      <td>NaN</td>\n",
       "      <td>NaN</td>\n",
       "      <td>NaN</td>\n",
       "      <td>NaN</td>\n",
       "      <td>NaN</td>\n",
       "      <td>NaN</td>\n",
       "      <td>NaN</td>\n",
       "      <td>...</td>\n",
       "      <td>NaN</td>\n",
       "      <td>NaN</td>\n",
       "      <td>NaN</td>\n",
       "      <td>NaN</td>\n",
       "      <td>NaN</td>\n",
       "      <td>NaN</td>\n",
       "      <td>NaN</td>\n",
       "      <td>NaN</td>\n",
       "      <td>NaN</td>\n",
       "      <td>NaN</td>\n",
       "    </tr>\n",
       "    <tr>\n",
       "      <th>19718.0</th>\n",
       "      <td>NaN</td>\n",
       "      <td>NaN</td>\n",
       "      <td>NaN</td>\n",
       "      <td>NaN</td>\n",
       "      <td>NaN</td>\n",
       "      <td>NaN</td>\n",
       "      <td>NaN</td>\n",
       "      <td>NaN</td>\n",
       "      <td>NaN</td>\n",
       "      <td>NaN</td>\n",
       "      <td>...</td>\n",
       "      <td>NaN</td>\n",
       "      <td>NaN</td>\n",
       "      <td>NaN</td>\n",
       "      <td>NaN</td>\n",
       "      <td>NaN</td>\n",
       "      <td>NaN</td>\n",
       "      <td>1.0</td>\n",
       "      <td>NaN</td>\n",
       "      <td>NaN</td>\n",
       "      <td>NaN</td>\n",
       "    </tr>\n",
       "  </tbody>\n",
       "</table>\n",
       "<p>15000 rows × 1004 columns</p>\n",
       "</div>"
      ],
      "text/plain": [
       "artist   ...and you will know us by the trail of dead  2pac  3 doors down  \\\n",
       "user                                                                        \n",
       "1.0                                               NaN   NaN           NaN   \n",
       "3.0                                               NaN   NaN           NaN   \n",
       "4.0                                               NaN   NaN           NaN   \n",
       "5.0                                               NaN   NaN           NaN   \n",
       "6.0                                               NaN   NaN           NaN   \n",
       "...                                               ...   ...           ...   \n",
       "19713.0                                           NaN   NaN           NaN   \n",
       "19714.0                                           NaN   NaN           NaN   \n",
       "19715.0                                           NaN   NaN           NaN   \n",
       "19717.0                                           NaN   NaN           NaN   \n",
       "19718.0                                           NaN   NaN           NaN   \n",
       "\n",
       "artist   30 seconds to mars  311  36 crazyfists  44  50 cent  65daysofstatic  \\\n",
       "user                                                                           \n",
       "1.0                     NaN  NaN            NaN NaN      NaN             NaN   \n",
       "3.0                     NaN  NaN            NaN NaN      NaN             NaN   \n",
       "4.0                     NaN  NaN            NaN NaN      NaN             NaN   \n",
       "5.0                     NaN  NaN            NaN NaN      NaN             NaN   \n",
       "6.0                     NaN  NaN            NaN NaN      NaN             NaN   \n",
       "...                     ...  ...            ...  ..      ...             ...   \n",
       "19713.0                 NaN  NaN            NaN NaN      NaN             NaN   \n",
       "19714.0                 NaN  NaN            NaN NaN      NaN             NaN   \n",
       "19715.0                 NaN  NaN            NaN NaN      NaN             NaN   \n",
       "19717.0                 NaN  NaN            NaN NaN      NaN             NaN   \n",
       "19718.0                 NaN  NaN            NaN NaN      NaN             NaN   \n",
       "\n",
       "artist   Edith piaf  ...  weezer  wilco  within temptation  \\\n",
       "user                 ...                                     \n",
       "1.0             NaN  ...     NaN    NaN                NaN   \n",
       "3.0             NaN  ...     NaN    NaN                NaN   \n",
       "4.0             NaN  ...     NaN    NaN                NaN   \n",
       "5.0             NaN  ...     NaN    NaN                NaN   \n",
       "6.0             NaN  ...     NaN    NaN                NaN   \n",
       "...             ...  ...     ...    ...                ...   \n",
       "19713.0         NaN  ...     NaN    NaN                NaN   \n",
       "19714.0         NaN  ...     NaN    NaN                NaN   \n",
       "19715.0         NaN  ...     NaN    NaN                NaN   \n",
       "19717.0         NaN  ...     NaN    NaN                NaN   \n",
       "19718.0         NaN  ...     NaN    NaN                NaN   \n",
       "\n",
       "artist   wolfgang amadeus mozart  wu-tang clan  yann tiersen  yeah yeah yeahs  \\\n",
       "user                                                                            \n",
       "1.0                          NaN           NaN           NaN              NaN   \n",
       "3.0                          NaN           NaN           NaN              NaN   \n",
       "4.0                          NaN           NaN           NaN              NaN   \n",
       "5.0                          NaN           NaN           NaN              NaN   \n",
       "6.0                          NaN           NaN           NaN              NaN   \n",
       "...                          ...           ...           ...              ...   \n",
       "19713.0                      NaN           NaN           NaN              NaN   \n",
       "19714.0                      NaN           NaN           NaN              NaN   \n",
       "19715.0                      1.0           NaN           NaN              NaN   \n",
       "19717.0                      NaN           NaN           NaN              NaN   \n",
       "19718.0                      NaN           NaN           NaN              1.0   \n",
       "\n",
       "artist   yellowcard  yo la tengo  zero 7  \n",
       "user                                      \n",
       "1.0             NaN          NaN     NaN  \n",
       "3.0             NaN          NaN     NaN  \n",
       "4.0             NaN          NaN     NaN  \n",
       "5.0             NaN          NaN     NaN  \n",
       "6.0             NaN          NaN     NaN  \n",
       "...             ...          ...     ...  \n",
       "19713.0         NaN          NaN     NaN  \n",
       "19714.0         NaN          NaN     NaN  \n",
       "19715.0         NaN          NaN     NaN  \n",
       "19717.0         NaN          NaN     NaN  \n",
       "19718.0         NaN          NaN     NaN  \n",
       "\n",
       "[15000 rows x 1004 columns]"
      ]
     },
     "execution_count": 4,
     "metadata": {},
     "output_type": "execute_result"
    }
   ],
   "source": [
    "# import formatters\n",
    "from holisticai.utils import recommender_formatter\n",
    "\n",
    "# Each interaction results in a non-nan entry in the dataframe.\n",
    "df_pivot, p_attr = recommender_formatter(lastfm, users_col='user', groups_col='sex', items_col='artist', scores_col='score', aggfunc='mean')\n",
    "\n",
    "df_pivot"
   ]
  },
  {
   "cell_type": "markdown",
   "metadata": {
    "collapsed": false
   },
   "source": [
    "We will now move to data exploration, using some of the functions for plotting available in our library."
   ]
  },
  {
   "cell_type": "code",
   "execution_count": 5,
   "metadata": {
    "collapsed": false,
    "pycharm": {
     "name": "#%%\n"
    }
   },
   "outputs": [],
   "source": [
    "# import plotters\n",
    "from holisticai.bias.plots import group_pie_plot\n",
    "from holisticai.bias.plots import long_tail_plot\n",
    "from holisticai.bias.plots import exposure_diff_plot\n",
    "from holisticai.bias.plots import exposure_ratio_plot"
   ]
  },
  {
   "cell_type": "code",
   "execution_count": 6,
   "metadata": {},
   "outputs": [
    {
     "name": "stdout",
     "output_type": "stream",
     "text": [
      "Number of Unique Users : 15000\n",
      "Number of Unique Artists : 1004\n"
     ]
    }
   ],
   "source": [
    "print ('Number of Unique Users : ' + str(df_pivot.shape[0]))\n",
    "print ('Number of Unique Artists : ' + str(df_pivot.shape[1]))"
   ]
  },
  {
   "cell_type": "markdown",
   "metadata": {},
   "source": [
    "<font color='red'>  **Task 1**\n",
    "- **Create a pie plot for the 'sex' and 'country' atrributes**\n",
    "<font >"
   ]
  },
  {
   "cell_type": "code",
   "execution_count": 7,
   "metadata": {},
   "outputs": [],
   "source": [
    "# TODO"
   ]
  },
  {
   "cell_type": "markdown",
   "metadata": {},
   "source": [
    "<font color='red'> **Question 1**\n",
    "- **Is there any data imbalance we should be aware of?**\n",
    "<font > "
   ]
  },
  {
   "cell_type": "markdown",
   "metadata": {
    "collapsed": false
   },
   "source": [
    "After an initial exploration of the users demographic, we can explore fairness-related plots. The `long_tail_plot` shows the descendent frequency of the items. In this example, the artists' popularity seems falls [exponentially](https://en.wikipedia.org/wiki/Zipf%27s_law) at a pretty fast rate."
   ]
  },
  {
   "cell_type": "code",
   "execution_count": 8,
   "metadata": {},
   "outputs": [
    {
     "data": {
      "text/plain": [
       "<AxesSubplot:xlabel='Items (sorted by popularity)', ylabel='Item Count'>"
      ]
     },
     "execution_count": 8,
     "metadata": {},
     "output_type": "execute_result"
    },
    {
     "data": {
      "image/png": "[encoded data removed]",
      "text/plain": [
       "<Figure size 432x288 with 1 Axes>"
      ]
     },
     "metadata": {
      "needs_background": "light"
     },
     "output_type": "display_data"
    }
   ],
   "source": [
    "# the long tail plot shows the distribution of item counts\n",
    "long_tail_plot(df_pivot.to_numpy())"
   ]
  },
  {
   "cell_type": "markdown",
   "metadata": {},
   "source": [
    "<font color='red'> **Question 2**\n",
    "- **What does the above plot say about the distribution of artists download numbers?**\n",
    "<font > "
   ]
  },
  {
   "cell_type": "markdown",
   "metadata": {},
   "source": [
    "If we are interested in users' fairness instead, we may want to compare how often the same artists are presented to different groups of users. Here, we will focus on the comparison between male and female users. Specifically, we calculate the proportion of male users (out of all male users) who have downloaded each artist. We then compare this value to the corresponding proportion of female users.\n",
    "\n",
    "The holisticai function `exposure_diff_plot` displays the difference in exposure for each item, while `exposure_ratio_plot` measures the ratio in exposure."
   ]
  },
  {
   "cell_type": "code",
   "execution_count": 9,
   "metadata": {},
   "outputs": [
    {
     "data": {
      "text/plain": [
       "<AxesSubplot:xlabel='Items (sorted by exposure difference)', ylabel='$Exposure_a - Exposure_b$'>"
      ]
     },
     "execution_count": 9,
     "metadata": {},
     "output_type": "execute_result"
    },
    {
     "data": {
      "image/png": "[encoded data removed]",
      "text/plain": [
       "<Figure size 432x288 with 1 Axes>"
      ]
     },
     "metadata": {},
     "output_type": "display_data"
    }
   ],
   "source": [
    "# sorted exposure differences\n",
    "group_a = p_attr=='f'\n",
    "group_b = p_attr=='m'\n",
    "exposure_diff_plot(group_a, group_b, df_pivot.to_numpy())"
   ]
  },
  {
   "cell_type": "markdown",
   "metadata": {},
   "source": [
    "The differences in exposures seem to be overall quite small. However, since the number of items is quite large, the exposures are small to start with. In these cases, the exposure ratio may be a more informative choice."
   ]
  },
  {
   "cell_type": "code",
   "execution_count": 10,
   "metadata": {},
   "outputs": [
    {
     "data": {
      "text/plain": [
       "<AxesSubplot:xlabel='Items (sorted by exposure ratio)', ylabel='$Exposure_a/Exposure_b$'>"
      ]
     },
     "execution_count": 10,
     "metadata": {},
     "output_type": "execute_result"
    },
    {
     "data": {
      "image/png": "[encoded data removed]",
      "text/plain": [
       "<Figure size 432x288 with 1 Axes>"
      ]
     },
     "metadata": {},
     "output_type": "display_data"
    }
   ],
   "source": [
    "# sorted exposure ratios\n",
    "exposure_ratio_plot(group_a, group_b, df_pivot.to_numpy())"
   ]
  },
  {
   "cell_type": "code",
   "execution_count": 11,
   "metadata": {
    "collapsed": false,
    "pycharm": {
     "name": "#%%\n"
    }
   },
   "outputs": [
    {
     "data": {
      "text/plain": [
       "<AxesSubplot:xlabel='Items (sorted by exposure ratio)', ylabel='$Exposure_a/Exposure_b$'>"
      ]
     },
     "execution_count": 11,
     "metadata": {},
     "output_type": "execute_result"
    },
    {
     "data": {
      "image/png": "[encoded data removed]",
      "text/plain": [
       "<Figure size 432x288 with 1 Axes>"
      ]
     },
     "metadata": {},
     "output_type": "display_data"
    }
   ],
   "source": [
    "exposure_ratio_plot(group_b, group_a, df_pivot.to_numpy())"
   ]
  },
  {
   "cell_type": "markdown",
   "metadata": {},
   "source": [
    "<font color='red'> **Question 3**\n",
    "- **What are the maximum / minimum ratios in exposure to a given artist between male and female groups?**\n",
    "<font > "
   ]
  },
  {
   "cell_type": "markdown",
   "metadata": {},
   "source": [
    "### 2 - Pre-processing the data and training the model"
   ]
  },
  {
   "cell_type": "markdown",
   "metadata": {},
   "source": [
    "There are many ways to recommend artists to users. We will use item based collaborative filtering since it is the simplest and most intuitive approach. For each artist, we work out a list of most similar artists. Then we recommend artists to users by looking at which artists they like, and choosing the most similar ones."
   ]
  },
  {
   "cell_type": "code",
   "execution_count": 12,
   "metadata": {},
   "outputs": [
    {
     "data": {
      "text/plain": [
       "array([[0., 0., 0., ..., 0., 0., 0.],\n",
       "       [0., 0., 0., ..., 0., 0., 0.],\n",
       "       [0., 0., 0., ..., 0., 0., 0.],\n",
       "       ...,\n",
       "       [0., 0., 0., ..., 0., 0., 0.],\n",
       "       [0., 0., 0., ..., 0., 0., 0.],\n",
       "       [0., 0., 0., ..., 0., 0., 0.]])"
      ]
     },
     "execution_count": 12,
     "metadata": {},
     "output_type": "execute_result"
    }
   ],
   "source": [
    "# Helper dictionnaries\n",
    "index_to_artist = dict(zip(range(len(df_pivot.columns)),df_pivot.columns))\n",
    "artist_to_index = dict(zip(df_pivot.columns,range(len(df_pivot.columns))))\n",
    "user_gender_dict = dict(zip(df_pivot.index, p_attr))\n",
    "data_matrix = df_pivot.fillna(0).to_numpy()\n",
    "data_matrix"
   ]
  },
  {
   "cell_type": "markdown",
   "metadata": {},
   "source": [
    "Below we compute the cosine similarity matrix between artists, which is a matrix of shape (num_artists, num_artists)."
   ]
  },
  {
   "cell_type": "code",
   "execution_count": 13,
   "metadata": {},
   "outputs": [
    {
     "data": {
      "text/plain": [
       "(1004, 1004)"
      ]
     },
     "execution_count": 13,
     "metadata": {},
     "output_type": "execute_result"
    }
   ],
   "source": [
    "# Import linear_kernel\n",
    "from sklearn.metrics.pairwise import linear_kernel\n",
    "\n",
    "# Compute the cosine similarity between items matrix\n",
    "cosine_sim = linear_kernel(data_matrix.T, data_matrix.T)\n",
    "\n",
    "cosine_sim.shape"
   ]
  },
  {
   "cell_type": "code",
   "execution_count": 14,
   "metadata": {},
   "outputs": [
    {
     "data": {
      "text/plain": [
       "['mogwai',\n",
       " 'my bloody valentine',\n",
       " 'sonic youth',\n",
       " 'stereolab',\n",
       " 'the fall',\n",
       " 'the kinks',\n",
       " 'the radio dept.',\n",
       " 'the velvet underground']"
      ]
     },
     "execution_count": 14,
     "metadata": {},
     "output_type": "execute_result"
    }
   ],
   "source": [
    "# Helper functions for display\n",
    "def display_items(arr):\n",
    "    return [index_to_artist[x] for x in arr]\n",
    "\n",
    "# Items liked by a given user\n",
    "def items_liked_by_user(data_matrix, u):\n",
    "    return np.nonzero(data_matrix[u])[0]\n",
    "\n",
    "display_items(items_liked_by_user(data_matrix, 9))"
   ]
  },
  {
   "cell_type": "markdown",
   "metadata": {},
   "source": [
    "So user 9 happens to be a fan of Mogwai, nice."
   ]
  },
  {
   "cell_type": "markdown",
   "metadata": {},
   "source": [
    "<font color='red'>  **Task 2**\n",
    "- **Try to find your favorite artist within the artist list, and display the 5 artists that are most similar to them using `items_similar_to_item` function**\n",
    "<font >"
   ]
  },
  {
   "cell_type": "code",
   "execution_count": 15,
   "metadata": {},
   "outputs": [],
   "source": [
    "def items_similar_to_item(similarity_matrix, i, k):\n",
    "    arr = similarity_matrix[i]\n",
    "    arr[i] = 0\n",
    "    return np.argsort(arr)[-k:]"
   ]
  },
  {
   "cell_type": "code",
   "execution_count": 16,
   "metadata": {},
   "outputs": [],
   "source": [
    "# TODO"
   ]
  },
  {
   "cell_type": "markdown",
   "metadata": {},
   "source": [
    "Ok so we want to train a model, we will take a simple approach. For each user we look at their liked items, sum their similarity scores and choose the top matches overall."
   ]
  },
  {
   "cell_type": "code",
   "execution_count": 17,
   "metadata": {},
   "outputs": [
    {
     "data": {
      "text/plain": [
       "['pink floyd',\n",
       " 'the cure',\n",
       " 'the rolling stones',\n",
       " 'joy division',\n",
       " 'the smiths',\n",
       " 'bob dylan',\n",
       " 'pixies',\n",
       " 'david bowie',\n",
       " 'the beatles',\n",
       " 'radiohead']"
      ]
     },
     "execution_count": 17,
     "metadata": {},
     "output_type": "execute_result"
    }
   ],
   "source": [
    "def recommended_items(data_matrix, similarity_matrix, u, k):\n",
    "    liked = items_liked_by_user(data_matrix, u)\n",
    "    arr = np.sum(similarity_matrix[liked,:], axis=0)\n",
    "    arr[liked] = 0\n",
    "    return np.argsort(arr)[-k:]\n",
    "    \n",
    "# items recommended to user 9, the mogwai fan\n",
    "display_items(recommended_items(data_matrix, cosine_sim, 9, 10))"
   ]
  },
  {
   "cell_type": "markdown",
   "metadata": {},
   "source": [
    "Let's look at some examples to see if the recommendations make sense."
   ]
  },
  {
   "cell_type": "code",
   "execution_count": 18,
   "metadata": {},
   "outputs": [
    {
     "data": {
      "text/plain": [
       "['t.i.',\n",
       " 'the game',\n",
       " 'dr. dre',\n",
       " 'notorious b.i.g.',\n",
       " '50 cent',\n",
       " 'jay-z',\n",
       " 'snoop dogg',\n",
       " 'nas',\n",
       " 'eminem',\n",
       " 'kanye west']"
      ]
     },
     "execution_count": 18,
     "metadata": {},
     "output_type": "execute_result"
    }
   ],
   "source": [
    "# Items similar to 2 Pac\n",
    "display_items(items_similar_to_item(cosine_sim, artist_to_index['2pac'], 10))"
   ]
  },
  {
   "cell_type": "code",
   "execution_count": 19,
   "metadata": {},
   "outputs": [
    {
     "data": {
      "text/plain": [
       "['nirvana',\n",
       " 'queen',\n",
       " 'the rolling stones',\n",
       " 'david bowie',\n",
       " 'led zeppelin',\n",
       " 'red hot chili peppers',\n",
       " 'bob dylan',\n",
       " 'pink floyd',\n",
       " 'coldplay',\n",
       " 'radiohead']"
      ]
     },
     "execution_count": 19,
     "metadata": {},
     "output_type": "execute_result"
    }
   ],
   "source": [
    "# Items similar to 2 Pac\n",
    "display_items(items_similar_to_item(cosine_sim, artist_to_index['the beatles'], 10))"
   ]
  },
  {
   "cell_type": "code",
   "execution_count": 20,
   "metadata": {},
   "outputs": [
    {
     "data": {
      "text/plain": [
       "['u2',\n",
       " 'nelly furtado',\n",
       " 'amy winehouse',\n",
       " 'depeche mode',\n",
       " 'michael jackson',\n",
       " 'kylie minogue',\n",
       " 'the beatles',\n",
       " 'rihanna',\n",
       " 'britney spears',\n",
       " 'coldplay']"
      ]
     },
     "execution_count": 20,
     "metadata": {},
     "output_type": "execute_result"
    }
   ],
   "source": [
    "# Items similar to 2 Pac\n",
    "display_items(items_similar_to_item(cosine_sim, artist_to_index['madonna'], 10))"
   ]
  },
  {
   "cell_type": "markdown",
   "metadata": {},
   "source": [
    "These all make sense to a human evaluator"
   ]
  },
  {
   "cell_type": "markdown",
   "metadata": {},
   "source": [
    "<font color='red'>  **Task 3**\n",
    "- **Create a pandas DataFrame displaying top 10 recommendations for each of the 15K users**\n",
    "<font >"
   ]
  },
  {
   "cell_type": "code",
   "execution_count": 21,
   "metadata": {},
   "outputs": [],
   "source": [
    "# TODO"
   ]
  },
  {
   "cell_type": "markdown",
   "metadata": {},
   "source": [
    "### 3 - Measuring bias\n",
    "We will now show how we can calculate various metrics of fairness for recommender systems. In this example, we will cover both metrics for item fairness and for user fairness (equality of outcome)."
   ]
  },
  {
   "cell_type": "markdown",
   "metadata": {},
   "source": [
    "To compute bias we will need the recommendations in an interaction format, this is done in the next cell"
   ]
  },
  {
   "cell_type": "code",
   "execution_count": 22,
   "metadata": {},
   "outputs": [
    {
     "data": {
      "text/html": [
       "<div>\n",
       "<style scoped>\n",
       "    .dataframe tbody tr th:only-of-type {\n",
       "        vertical-align: middle;\n",
       "    }\n",
       "\n",
       "    .dataframe tbody tr th {\n",
       "        vertical-align: top;\n",
       "    }\n",
       "\n",
       "    .dataframe thead th {\n",
       "        text-align: right;\n",
       "    }\n",
       "</style>\n",
       "<table border=\"1\" class=\"dataframe\">\n",
       "  <thead>\n",
       "    <tr style=\"text-align: right;\">\n",
       "      <th>artist</th>\n",
       "      <th>...and you will know us by the trail of dead</th>\n",
       "      <th>2pac</th>\n",
       "      <th>3 doors down</th>\n",
       "      <th>30 seconds to mars</th>\n",
       "      <th>311</th>\n",
       "      <th>36 crazyfists</th>\n",
       "      <th>44</th>\n",
       "      <th>50 cent</th>\n",
       "      <th>65daysofstatic</th>\n",
       "      <th>Edith piaf</th>\n",
       "      <th>...</th>\n",
       "      <th>weezer</th>\n",
       "      <th>wilco</th>\n",
       "      <th>within temptation</th>\n",
       "      <th>wolfgang amadeus mozart</th>\n",
       "      <th>wu-tang clan</th>\n",
       "      <th>yann tiersen</th>\n",
       "      <th>yeah yeah yeahs</th>\n",
       "      <th>yellowcard</th>\n",
       "      <th>yo la tengo</th>\n",
       "      <th>zero 7</th>\n",
       "    </tr>\n",
       "  </thead>\n",
       "  <tbody>\n",
       "    <tr>\n",
       "      <th>0</th>\n",
       "      <td>NaN</td>\n",
       "      <td>NaN</td>\n",
       "      <td>NaN</td>\n",
       "      <td>NaN</td>\n",
       "      <td>NaN</td>\n",
       "      <td>NaN</td>\n",
       "      <td>NaN</td>\n",
       "      <td>NaN</td>\n",
       "      <td>NaN</td>\n",
       "      <td>NaN</td>\n",
       "      <td>...</td>\n",
       "      <td>NaN</td>\n",
       "      <td>NaN</td>\n",
       "      <td>NaN</td>\n",
       "      <td>NaN</td>\n",
       "      <td>NaN</td>\n",
       "      <td>NaN</td>\n",
       "      <td>NaN</td>\n",
       "      <td>NaN</td>\n",
       "      <td>NaN</td>\n",
       "      <td>NaN</td>\n",
       "    </tr>\n",
       "    <tr>\n",
       "      <th>1</th>\n",
       "      <td>NaN</td>\n",
       "      <td>NaN</td>\n",
       "      <td>NaN</td>\n",
       "      <td>NaN</td>\n",
       "      <td>NaN</td>\n",
       "      <td>NaN</td>\n",
       "      <td>NaN</td>\n",
       "      <td>NaN</td>\n",
       "      <td>NaN</td>\n",
       "      <td>NaN</td>\n",
       "      <td>...</td>\n",
       "      <td>NaN</td>\n",
       "      <td>NaN</td>\n",
       "      <td>NaN</td>\n",
       "      <td>NaN</td>\n",
       "      <td>NaN</td>\n",
       "      <td>NaN</td>\n",
       "      <td>NaN</td>\n",
       "      <td>NaN</td>\n",
       "      <td>NaN</td>\n",
       "      <td>NaN</td>\n",
       "    </tr>\n",
       "    <tr>\n",
       "      <th>2</th>\n",
       "      <td>NaN</td>\n",
       "      <td>NaN</td>\n",
       "      <td>NaN</td>\n",
       "      <td>NaN</td>\n",
       "      <td>NaN</td>\n",
       "      <td>NaN</td>\n",
       "      <td>NaN</td>\n",
       "      <td>NaN</td>\n",
       "      <td>NaN</td>\n",
       "      <td>NaN</td>\n",
       "      <td>...</td>\n",
       "      <td>NaN</td>\n",
       "      <td>NaN</td>\n",
       "      <td>NaN</td>\n",
       "      <td>NaN</td>\n",
       "      <td>NaN</td>\n",
       "      <td>NaN</td>\n",
       "      <td>NaN</td>\n",
       "      <td>NaN</td>\n",
       "      <td>NaN</td>\n",
       "      <td>NaN</td>\n",
       "    </tr>\n",
       "    <tr>\n",
       "      <th>3</th>\n",
       "      <td>NaN</td>\n",
       "      <td>NaN</td>\n",
       "      <td>NaN</td>\n",
       "      <td>NaN</td>\n",
       "      <td>NaN</td>\n",
       "      <td>NaN</td>\n",
       "      <td>NaN</td>\n",
       "      <td>NaN</td>\n",
       "      <td>NaN</td>\n",
       "      <td>NaN</td>\n",
       "      <td>...</td>\n",
       "      <td>NaN</td>\n",
       "      <td>NaN</td>\n",
       "      <td>NaN</td>\n",
       "      <td>NaN</td>\n",
       "      <td>NaN</td>\n",
       "      <td>NaN</td>\n",
       "      <td>NaN</td>\n",
       "      <td>NaN</td>\n",
       "      <td>NaN</td>\n",
       "      <td>NaN</td>\n",
       "    </tr>\n",
       "    <tr>\n",
       "      <th>4</th>\n",
       "      <td>NaN</td>\n",
       "      <td>NaN</td>\n",
       "      <td>NaN</td>\n",
       "      <td>NaN</td>\n",
       "      <td>NaN</td>\n",
       "      <td>NaN</td>\n",
       "      <td>NaN</td>\n",
       "      <td>NaN</td>\n",
       "      <td>NaN</td>\n",
       "      <td>NaN</td>\n",
       "      <td>...</td>\n",
       "      <td>NaN</td>\n",
       "      <td>NaN</td>\n",
       "      <td>NaN</td>\n",
       "      <td>NaN</td>\n",
       "      <td>NaN</td>\n",
       "      <td>NaN</td>\n",
       "      <td>NaN</td>\n",
       "      <td>NaN</td>\n",
       "      <td>NaN</td>\n",
       "      <td>NaN</td>\n",
       "    </tr>\n",
       "    <tr>\n",
       "      <th>...</th>\n",
       "      <td>...</td>\n",
       "      <td>...</td>\n",
       "      <td>...</td>\n",
       "      <td>...</td>\n",
       "      <td>...</td>\n",
       "      <td>...</td>\n",
       "      <td>...</td>\n",
       "      <td>...</td>\n",
       "      <td>...</td>\n",
       "      <td>...</td>\n",
       "      <td>...</td>\n",
       "      <td>...</td>\n",
       "      <td>...</td>\n",
       "      <td>...</td>\n",
       "      <td>...</td>\n",
       "      <td>...</td>\n",
       "      <td>...</td>\n",
       "      <td>...</td>\n",
       "      <td>...</td>\n",
       "      <td>...</td>\n",
       "      <td>...</td>\n",
       "    </tr>\n",
       "    <tr>\n",
       "      <th>14995</th>\n",
       "      <td>NaN</td>\n",
       "      <td>NaN</td>\n",
       "      <td>NaN</td>\n",
       "      <td>NaN</td>\n",
       "      <td>NaN</td>\n",
       "      <td>NaN</td>\n",
       "      <td>NaN</td>\n",
       "      <td>NaN</td>\n",
       "      <td>NaN</td>\n",
       "      <td>NaN</td>\n",
       "      <td>...</td>\n",
       "      <td>NaN</td>\n",
       "      <td>NaN</td>\n",
       "      <td>NaN</td>\n",
       "      <td>NaN</td>\n",
       "      <td>NaN</td>\n",
       "      <td>NaN</td>\n",
       "      <td>NaN</td>\n",
       "      <td>NaN</td>\n",
       "      <td>NaN</td>\n",
       "      <td>NaN</td>\n",
       "    </tr>\n",
       "    <tr>\n",
       "      <th>14996</th>\n",
       "      <td>NaN</td>\n",
       "      <td>NaN</td>\n",
       "      <td>NaN</td>\n",
       "      <td>NaN</td>\n",
       "      <td>NaN</td>\n",
       "      <td>NaN</td>\n",
       "      <td>NaN</td>\n",
       "      <td>NaN</td>\n",
       "      <td>NaN</td>\n",
       "      <td>NaN</td>\n",
       "      <td>...</td>\n",
       "      <td>NaN</td>\n",
       "      <td>NaN</td>\n",
       "      <td>NaN</td>\n",
       "      <td>NaN</td>\n",
       "      <td>NaN</td>\n",
       "      <td>NaN</td>\n",
       "      <td>NaN</td>\n",
       "      <td>NaN</td>\n",
       "      <td>NaN</td>\n",
       "      <td>NaN</td>\n",
       "    </tr>\n",
       "    <tr>\n",
       "      <th>14997</th>\n",
       "      <td>NaN</td>\n",
       "      <td>NaN</td>\n",
       "      <td>NaN</td>\n",
       "      <td>NaN</td>\n",
       "      <td>NaN</td>\n",
       "      <td>NaN</td>\n",
       "      <td>NaN</td>\n",
       "      <td>NaN</td>\n",
       "      <td>NaN</td>\n",
       "      <td>NaN</td>\n",
       "      <td>...</td>\n",
       "      <td>NaN</td>\n",
       "      <td>NaN</td>\n",
       "      <td>NaN</td>\n",
       "      <td>NaN</td>\n",
       "      <td>NaN</td>\n",
       "      <td>NaN</td>\n",
       "      <td>NaN</td>\n",
       "      <td>NaN</td>\n",
       "      <td>NaN</td>\n",
       "      <td>NaN</td>\n",
       "    </tr>\n",
       "    <tr>\n",
       "      <th>14998</th>\n",
       "      <td>NaN</td>\n",
       "      <td>NaN</td>\n",
       "      <td>NaN</td>\n",
       "      <td>NaN</td>\n",
       "      <td>NaN</td>\n",
       "      <td>NaN</td>\n",
       "      <td>NaN</td>\n",
       "      <td>NaN</td>\n",
       "      <td>NaN</td>\n",
       "      <td>NaN</td>\n",
       "      <td>...</td>\n",
       "      <td>NaN</td>\n",
       "      <td>NaN</td>\n",
       "      <td>NaN</td>\n",
       "      <td>NaN</td>\n",
       "      <td>NaN</td>\n",
       "      <td>NaN</td>\n",
       "      <td>NaN</td>\n",
       "      <td>NaN</td>\n",
       "      <td>NaN</td>\n",
       "      <td>NaN</td>\n",
       "    </tr>\n",
       "    <tr>\n",
       "      <th>14999</th>\n",
       "      <td>NaN</td>\n",
       "      <td>NaN</td>\n",
       "      <td>NaN</td>\n",
       "      <td>NaN</td>\n",
       "      <td>NaN</td>\n",
       "      <td>NaN</td>\n",
       "      <td>NaN</td>\n",
       "      <td>NaN</td>\n",
       "      <td>NaN</td>\n",
       "      <td>NaN</td>\n",
       "      <td>...</td>\n",
       "      <td>NaN</td>\n",
       "      <td>NaN</td>\n",
       "      <td>NaN</td>\n",
       "      <td>NaN</td>\n",
       "      <td>NaN</td>\n",
       "      <td>NaN</td>\n",
       "      <td>NaN</td>\n",
       "      <td>NaN</td>\n",
       "      <td>NaN</td>\n",
       "      <td>NaN</td>\n",
       "    </tr>\n",
       "  </tbody>\n",
       "</table>\n",
       "<p>15000 rows × 1004 columns</p>\n",
       "</div>"
      ],
      "text/plain": [
       "artist  ...and you will know us by the trail of dead  2pac  3 doors down  \\\n",
       "0                                                NaN   NaN           NaN   \n",
       "1                                                NaN   NaN           NaN   \n",
       "2                                                NaN   NaN           NaN   \n",
       "3                                                NaN   NaN           NaN   \n",
       "4                                                NaN   NaN           NaN   \n",
       "...                                              ...   ...           ...   \n",
       "14995                                            NaN   NaN           NaN   \n",
       "14996                                            NaN   NaN           NaN   \n",
       "14997                                            NaN   NaN           NaN   \n",
       "14998                                            NaN   NaN           NaN   \n",
       "14999                                            NaN   NaN           NaN   \n",
       "\n",
       "artist  30 seconds to mars  311  36 crazyfists  44  50 cent  65daysofstatic  \\\n",
       "0                      NaN  NaN            NaN NaN      NaN             NaN   \n",
       "1                      NaN  NaN            NaN NaN      NaN             NaN   \n",
       "2                      NaN  NaN            NaN NaN      NaN             NaN   \n",
       "3                      NaN  NaN            NaN NaN      NaN             NaN   \n",
       "4                      NaN  NaN            NaN NaN      NaN             NaN   \n",
       "...                    ...  ...            ...  ..      ...             ...   \n",
       "14995                  NaN  NaN            NaN NaN      NaN             NaN   \n",
       "14996                  NaN  NaN            NaN NaN      NaN             NaN   \n",
       "14997                  NaN  NaN            NaN NaN      NaN             NaN   \n",
       "14998                  NaN  NaN            NaN NaN      NaN             NaN   \n",
       "14999                  NaN  NaN            NaN NaN      NaN             NaN   \n",
       "\n",
       "artist  Edith piaf  ...  weezer  wilco  within temptation  \\\n",
       "0              NaN  ...     NaN    NaN                NaN   \n",
       "1              NaN  ...     NaN    NaN                NaN   \n",
       "2              NaN  ...     NaN    NaN                NaN   \n",
       "3              NaN  ...     NaN    NaN                NaN   \n",
       "4              NaN  ...     NaN    NaN                NaN   \n",
       "...            ...  ...     ...    ...                ...   \n",
       "14995          NaN  ...     NaN    NaN                NaN   \n",
       "14996          NaN  ...     NaN    NaN                NaN   \n",
       "14997          NaN  ...     NaN    NaN                NaN   \n",
       "14998          NaN  ...     NaN    NaN                NaN   \n",
       "14999          NaN  ...     NaN    NaN                NaN   \n",
       "\n",
       "artist  wolfgang amadeus mozart  wu-tang clan  yann tiersen  yeah yeah yeahs  \\\n",
       "0                           NaN           NaN           NaN              NaN   \n",
       "1                           NaN           NaN           NaN              NaN   \n",
       "2                           NaN           NaN           NaN              NaN   \n",
       "3                           NaN           NaN           NaN              NaN   \n",
       "4                           NaN           NaN           NaN              NaN   \n",
       "...                         ...           ...           ...              ...   \n",
       "14995                       NaN           NaN           NaN              NaN   \n",
       "14996                       NaN           NaN           NaN              NaN   \n",
       "14997                       NaN           NaN           NaN              NaN   \n",
       "14998                       NaN           NaN           NaN              NaN   \n",
       "14999                       NaN           NaN           NaN              NaN   \n",
       "\n",
       "artist  yellowcard  yo la tengo  zero 7  \n",
       "0              NaN          NaN     NaN  \n",
       "1              NaN          NaN     NaN  \n",
       "2              NaN          NaN     NaN  \n",
       "3              NaN          NaN     NaN  \n",
       "4              NaN          NaN     NaN  \n",
       "...            ...          ...     ...  \n",
       "14995          NaN          NaN     NaN  \n",
       "14996          NaN          NaN     NaN  \n",
       "14997          NaN          NaN     NaN  \n",
       "14998          NaN          NaN     NaN  \n",
       "14999          NaN          NaN     NaN  \n",
       "\n",
       "[15000 rows x 1004 columns]"
      ]
     },
     "execution_count": 22,
     "metadata": {},
     "output_type": "execute_result"
    }
   ],
   "source": [
    "def explode(arr, num_items):\n",
    "    out = np.zeros(num_items)\n",
    "    out[arr] = 1\n",
    "    return out\n",
    "\n",
    "new_recs = [explode(recommended_items(data_matrix, cosine_sim, u, 10), len(df_pivot.columns)) for u in range(df_pivot.shape[0])]\n",
    "new_df_pivot = pd.DataFrame(new_recs, columns = df_pivot.columns).replace(0, np.nan)\n",
    "new_df_pivot"
   ]
  },
  {
   "cell_type": "markdown",
   "metadata": {},
   "source": [
    "#### A - Item Fairness"
   ]
  },
  {
   "cell_type": "code",
   "execution_count": 23,
   "metadata": {},
   "outputs": [],
   "source": [
    "# Setting up the data\n",
    "mat = new_df_pivot.to_numpy()\n",
    "group_a = p_attr=='f'\n",
    "group_b = p_attr=='m'"
   ]
  },
  {
   "cell_type": "markdown",
   "metadata": {},
   "source": [
    "<font color='red'>  **Task 4**\n",
    "- **Create a long tail plot for the recommendation data.**\n",
    "<font >"
   ]
  },
  {
   "cell_type": "code",
   "execution_count": 24,
   "metadata": {},
   "outputs": [],
   "source": [
    "# TODO"
   ]
  },
  {
   "cell_type": "markdown",
   "metadata": {},
   "source": [
    "<font color='red'> **Question 4**\n",
    "- **Has our recommender model improved the artist fairness compared to the original data?**\n",
    "<font > "
   ]
  },
  {
   "cell_type": "markdown",
   "metadata": {},
   "source": [
    "<font color='red'>  **Task 5**\n",
    "- **Compute aggregate diversity, gini index and average recommendation popularity using the holisticai library**. Refer to [documentation](https://holisticai.readthedocs.io/en/latest/metrics.html#recommender) if needed.\n",
    "<font >"
   ]
  },
  {
   "cell_type": "code",
   "execution_count": 25,
   "metadata": {},
   "outputs": [],
   "source": [
    "from holisticai.bias.metrics import aggregate_diversity\n",
    "from holisticai.bias.metrics import gini_index\n",
    "from holisticai.bias.metrics import avg_recommendation_popularity\n",
    "\n",
    "\n",
    "# TODO"
   ]
  },
  {
   "cell_type": "markdown",
   "metadata": {},
   "source": [
    "You should get the following results:\n",
    "\n",
    "| Metric | Value | Reference |\n",
    "| --- | --- | --- |\n",
    "| Aggregate Diversity | 0.41 | 1 |\n",
    "| Gini Index   | 0.96 | 0 |\n",
    "| Avg Recommendation Pop   | 5716 | - |\n",
    "\n",
    "\n"
   ]
  },
  {
   "cell_type": "markdown",
   "metadata": {},
   "source": [
    "<font color='red'> **Question 5**\n",
    "- **Based on observations, what is your final verdict on the item fairness of our model?**\n",
    "<font > "
   ]
  },
  {
   "cell_type": "markdown",
   "metadata": {},
   "source": [
    "#### B - User fairness"
   ]
  },
  {
   "cell_type": "code",
   "execution_count": 26,
   "metadata": {},
   "outputs": [
    {
     "data": {
      "text/plain": [
       "0.11064958985833381"
      ]
     },
     "execution_count": 26,
     "metadata": {},
     "output_type": "execute_result"
    }
   ],
   "source": [
    "from holisticai.bias.metrics import exposure_l1\n",
    "exposure_l1(group_a, group_b, mat)"
   ]
  },
  {
   "cell_type": "markdown",
   "metadata": {},
   "source": [
    "<font color='red'> **Question 6**\n",
    "- **Based on above metric, what is your final verdict on the user fairness of our model?**\n",
    "<font > "
   ]
  },
  {
   "cell_type": "markdown",
   "metadata": {},
   "source": []
  }
 ],
 "metadata": {
  "kernelspec": {
   "display_name": "Python 3",
   "language": "python",
   "name": "python3"
  },
  "language_info": {
   "codemirror_mode": {
    "name": "ipython",
    "version": 3
   },
   "file_extension": ".py",
   "mimetype": "text/x-python",
   "name": "python",
   "nbconvert_exporter": "python",
   "pygments_lexer": "ipython3",
   "version": "3.10.8 (main, Oct 13 2022, 09:48:40) [Clang 14.0.0 (clang-1400.0.29.102)]"
  },
  "orig_nbformat": 4,
  "vscode": {
   "interpreter": {
    "hash": "b0fa6594d8f4cbf19f97940f81e996739fb7646882a419484c72d19e05852a7e"
   }
  }
 },
 "nbformat": 4,
 "nbformat_minor": 2
}
